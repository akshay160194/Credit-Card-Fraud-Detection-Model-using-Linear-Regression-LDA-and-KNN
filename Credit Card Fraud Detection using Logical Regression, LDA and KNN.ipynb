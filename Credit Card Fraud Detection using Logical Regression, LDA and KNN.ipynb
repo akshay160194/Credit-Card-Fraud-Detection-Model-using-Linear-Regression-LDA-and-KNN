{
 "cells": [
  {
   "cell_type": "markdown",
   "id": "851dab7b",
   "metadata": {},
   "source": [
    "# Credit Card Fraud Detection Model using Linear Regression, LDA and KNN"
   ]
  },
  {
   "cell_type": "markdown",
   "id": "e4862522",
   "metadata": {},
   "source": [
    "## Problem Statement\n",
    "Create a Machine Learning model using Linear Regression, LDA and KNN Classification techniques to predict Credit Card Fraud."
   ]
  },
  {
   "cell_type": "markdown",
   "id": "57e84a1e",
   "metadata": {},
   "source": [
    "## My views about the problem statement?\n",
    "Machine learning models are able to make predictions faster and more accurately then any manual methods, it can help to detect and prevent credit card fraud by identifying suspicious transactions based on the provided features. It can also help us examine how different merchant categories are associated with fraud."
   ]
  },
  {
   "cell_type": "markdown",
   "id": "160f7ea3",
   "metadata": {},
   "source": [
    "## My approach for building a model:\n",
    "\n",
    "1) Upload and analyze the data into jupyter notebook.\n",
    "2) Perform Data Pre-processing like cleaning data, transforming data. Handling missing values, outliers and categorical   veriables.\n",
    "3) Spliting the available data in 80:20 ration to perform training and testing of the models.\n",
    "4) Training and testing the models using different classification techniques like Linear Regression, LDA and KN Neighbour methods with available data.\n",
    "5) Chosing the model and classification techique with best accuracy, precision score, recall score and ROC AUC score.\n",
    "6) Steps to improve the selected model's performance."
   ]
  },
  {
   "cell_type": "code",
   "execution_count": 1,
   "id": "97e2809b",
   "metadata": {},
   "outputs": [],
   "source": [
    "# importing importent libraries\n",
    "import pandas as pd\n",
    "import numpy as np\n",
    "import seaborn as sns\n",
    "import statsmodels.api as sm\n",
    "import statsmodels.discrete.discrete_model as dm\n",
    "from sklearn.metrics import confusion_matrix, accuracy_score, roc_auc_score\n",
    "from sklearn.metrics import precision_score, recall_score\n",
    "from sklearn.model_selection import train_test_split\n",
    "from sklearn import preprocessing\n",
    "from sklearn.model_selection import GridSearchCV\n",
    "from sklearn import metrics"
   ]
  },
  {
   "cell_type": "markdown",
   "id": "01e51684",
   "metadata": {},
   "source": [
    "## About Dataset\n",
    "This dataset contains credit card transactions made by European cardholders in the year 2023. It comprises over 550,000 records, and the data has been anonymized to protect the cardholders' identities. The primary objective of this dataset is to facilitate the development of fraud detection algorithms and models to identify potentially fraudulent transactions.\n",
    "Key Features \n",
    "1) id: Unique identifier for each transaction\n",
    "2) V1-V28: Anonymized features representing various transaction attributes (e.g., time, location, etc.)\n",
    "3) Amount: The transaction amount\n",
    "4) Class: Binary label indicating whether the transaction is fraudulent (1) or not (0)"
   ]
  },
  {
   "cell_type": "code",
   "execution_count": 2,
   "id": "8531bb6c",
   "metadata": {},
   "outputs": [],
   "source": [
    "#uploading data into pandas dataset\n",
    "df = pd.read_csv('C:/Users/AKSHAY TRIPATHI/OneDrive/Desktop/DATA SCIENCE/Credit Card Fraud Detection Project/archive/creditcard_2023.csv', header = 0)"
   ]
  },
  {
   "cell_type": "code",
   "execution_count": 3,
   "id": "2afa9747",
   "metadata": {},
   "outputs": [
    {
     "data": {
      "text/html": [
       "<div>\n",
       "<style scoped>\n",
       "    .dataframe tbody tr th:only-of-type {\n",
       "        vertical-align: middle;\n",
       "    }\n",
       "\n",
       "    .dataframe tbody tr th {\n",
       "        vertical-align: top;\n",
       "    }\n",
       "\n",
       "    .dataframe thead th {\n",
       "        text-align: right;\n",
       "    }\n",
       "</style>\n",
       "<table border=\"1\" class=\"dataframe\">\n",
       "  <thead>\n",
       "    <tr style=\"text-align: right;\">\n",
       "      <th></th>\n",
       "      <th>id</th>\n",
       "      <th>V1</th>\n",
       "      <th>V2</th>\n",
       "      <th>V3</th>\n",
       "      <th>V4</th>\n",
       "      <th>V5</th>\n",
       "      <th>V6</th>\n",
       "      <th>V7</th>\n",
       "      <th>V8</th>\n",
       "      <th>V9</th>\n",
       "      <th>...</th>\n",
       "      <th>V21</th>\n",
       "      <th>V22</th>\n",
       "      <th>V23</th>\n",
       "      <th>V24</th>\n",
       "      <th>V25</th>\n",
       "      <th>V26</th>\n",
       "      <th>V27</th>\n",
       "      <th>V28</th>\n",
       "      <th>Amount</th>\n",
       "      <th>Class</th>\n",
       "    </tr>\n",
       "  </thead>\n",
       "  <tbody>\n",
       "    <tr>\n",
       "      <th>0</th>\n",
       "      <td>0</td>\n",
       "      <td>-0.260648</td>\n",
       "      <td>-0.469648</td>\n",
       "      <td>2.496266</td>\n",
       "      <td>-0.083724</td>\n",
       "      <td>0.129681</td>\n",
       "      <td>0.732898</td>\n",
       "      <td>0.519014</td>\n",
       "      <td>-0.130006</td>\n",
       "      <td>0.727159</td>\n",
       "      <td>...</td>\n",
       "      <td>-0.110552</td>\n",
       "      <td>0.217606</td>\n",
       "      <td>-0.134794</td>\n",
       "      <td>0.165959</td>\n",
       "      <td>0.126280</td>\n",
       "      <td>-0.434824</td>\n",
       "      <td>-0.081230</td>\n",
       "      <td>-0.151045</td>\n",
       "      <td>17982.10</td>\n",
       "      <td>0</td>\n",
       "    </tr>\n",
       "    <tr>\n",
       "      <th>1</th>\n",
       "      <td>1</td>\n",
       "      <td>0.985100</td>\n",
       "      <td>-0.356045</td>\n",
       "      <td>0.558056</td>\n",
       "      <td>-0.429654</td>\n",
       "      <td>0.277140</td>\n",
       "      <td>0.428605</td>\n",
       "      <td>0.406466</td>\n",
       "      <td>-0.133118</td>\n",
       "      <td>0.347452</td>\n",
       "      <td>...</td>\n",
       "      <td>-0.194936</td>\n",
       "      <td>-0.605761</td>\n",
       "      <td>0.079469</td>\n",
       "      <td>-0.577395</td>\n",
       "      <td>0.190090</td>\n",
       "      <td>0.296503</td>\n",
       "      <td>-0.248052</td>\n",
       "      <td>-0.064512</td>\n",
       "      <td>6531.37</td>\n",
       "      <td>0</td>\n",
       "    </tr>\n",
       "    <tr>\n",
       "      <th>2</th>\n",
       "      <td>2</td>\n",
       "      <td>-0.260272</td>\n",
       "      <td>-0.949385</td>\n",
       "      <td>1.728538</td>\n",
       "      <td>-0.457986</td>\n",
       "      <td>0.074062</td>\n",
       "      <td>1.419481</td>\n",
       "      <td>0.743511</td>\n",
       "      <td>-0.095576</td>\n",
       "      <td>-0.261297</td>\n",
       "      <td>...</td>\n",
       "      <td>-0.005020</td>\n",
       "      <td>0.702906</td>\n",
       "      <td>0.945045</td>\n",
       "      <td>-1.154666</td>\n",
       "      <td>-0.605564</td>\n",
       "      <td>-0.312895</td>\n",
       "      <td>-0.300258</td>\n",
       "      <td>-0.244718</td>\n",
       "      <td>2513.54</td>\n",
       "      <td>0</td>\n",
       "    </tr>\n",
       "    <tr>\n",
       "      <th>3</th>\n",
       "      <td>3</td>\n",
       "      <td>-0.152152</td>\n",
       "      <td>-0.508959</td>\n",
       "      <td>1.746840</td>\n",
       "      <td>-1.090178</td>\n",
       "      <td>0.249486</td>\n",
       "      <td>1.143312</td>\n",
       "      <td>0.518269</td>\n",
       "      <td>-0.065130</td>\n",
       "      <td>-0.205698</td>\n",
       "      <td>...</td>\n",
       "      <td>-0.146927</td>\n",
       "      <td>-0.038212</td>\n",
       "      <td>-0.214048</td>\n",
       "      <td>-1.893131</td>\n",
       "      <td>1.003963</td>\n",
       "      <td>-0.515950</td>\n",
       "      <td>-0.165316</td>\n",
       "      <td>0.048424</td>\n",
       "      <td>5384.44</td>\n",
       "      <td>0</td>\n",
       "    </tr>\n",
       "    <tr>\n",
       "      <th>4</th>\n",
       "      <td>4</td>\n",
       "      <td>-0.206820</td>\n",
       "      <td>-0.165280</td>\n",
       "      <td>1.527053</td>\n",
       "      <td>-0.448293</td>\n",
       "      <td>0.106125</td>\n",
       "      <td>0.530549</td>\n",
       "      <td>0.658849</td>\n",
       "      <td>-0.212660</td>\n",
       "      <td>1.049921</td>\n",
       "      <td>...</td>\n",
       "      <td>-0.106984</td>\n",
       "      <td>0.729727</td>\n",
       "      <td>-0.161666</td>\n",
       "      <td>0.312561</td>\n",
       "      <td>-0.414116</td>\n",
       "      <td>1.071126</td>\n",
       "      <td>0.023712</td>\n",
       "      <td>0.419117</td>\n",
       "      <td>14278.97</td>\n",
       "      <td>0</td>\n",
       "    </tr>\n",
       "  </tbody>\n",
       "</table>\n",
       "<p>5 rows × 31 columns</p>\n",
       "</div>"
      ],
      "text/plain": [
       "   id        V1        V2        V3        V4        V5        V6        V7  \\\n",
       "0   0 -0.260648 -0.469648  2.496266 -0.083724  0.129681  0.732898  0.519014   \n",
       "1   1  0.985100 -0.356045  0.558056 -0.429654  0.277140  0.428605  0.406466   \n",
       "2   2 -0.260272 -0.949385  1.728538 -0.457986  0.074062  1.419481  0.743511   \n",
       "3   3 -0.152152 -0.508959  1.746840 -1.090178  0.249486  1.143312  0.518269   \n",
       "4   4 -0.206820 -0.165280  1.527053 -0.448293  0.106125  0.530549  0.658849   \n",
       "\n",
       "         V8        V9  ...       V21       V22       V23       V24       V25  \\\n",
       "0 -0.130006  0.727159  ... -0.110552  0.217606 -0.134794  0.165959  0.126280   \n",
       "1 -0.133118  0.347452  ... -0.194936 -0.605761  0.079469 -0.577395  0.190090   \n",
       "2 -0.095576 -0.261297  ... -0.005020  0.702906  0.945045 -1.154666 -0.605564   \n",
       "3 -0.065130 -0.205698  ... -0.146927 -0.038212 -0.214048 -1.893131  1.003963   \n",
       "4 -0.212660  1.049921  ... -0.106984  0.729727 -0.161666  0.312561 -0.414116   \n",
       "\n",
       "        V26       V27       V28    Amount  Class  \n",
       "0 -0.434824 -0.081230 -0.151045  17982.10      0  \n",
       "1  0.296503 -0.248052 -0.064512   6531.37      0  \n",
       "2 -0.312895 -0.300258 -0.244718   2513.54      0  \n",
       "3 -0.515950 -0.165316  0.048424   5384.44      0  \n",
       "4  1.071126  0.023712  0.419117  14278.97      0  \n",
       "\n",
       "[5 rows x 31 columns]"
      ]
     },
     "execution_count": 3,
     "metadata": {},
     "output_type": "execute_result"
    }
   ],
   "source": [
    "# Looking at the available data\n",
    "df.head()"
   ]
  },
  {
   "cell_type": "code",
   "execution_count": 4,
   "id": "2da63942",
   "metadata": {},
   "outputs": [
    {
     "data": {
      "text/plain": [
       "(568630, 31)"
      ]
     },
     "execution_count": 4,
     "metadata": {},
     "output_type": "execute_result"
    }
   ],
   "source": [
    "# checking number of rows and columns\n",
    "df.shape"
   ]
  },
  {
   "cell_type": "code",
   "execution_count": 5,
   "id": "e6ff867b",
   "metadata": {},
   "outputs": [
    {
     "name": "stdout",
     "output_type": "stream",
     "text": [
      "<class 'pandas.core.frame.DataFrame'>\n",
      "RangeIndex: 568630 entries, 0 to 568629\n",
      "Data columns (total 31 columns):\n",
      " #   Column  Non-Null Count   Dtype  \n",
      "---  ------  --------------   -----  \n",
      " 0   id      568630 non-null  int64  \n",
      " 1   V1      568630 non-null  float64\n",
      " 2   V2      568630 non-null  float64\n",
      " 3   V3      568630 non-null  float64\n",
      " 4   V4      568630 non-null  float64\n",
      " 5   V5      568630 non-null  float64\n",
      " 6   V6      568630 non-null  float64\n",
      " 7   V7      568630 non-null  float64\n",
      " 8   V8      568630 non-null  float64\n",
      " 9   V9      568630 non-null  float64\n",
      " 10  V10     568630 non-null  float64\n",
      " 11  V11     568630 non-null  float64\n",
      " 12  V12     568630 non-null  float64\n",
      " 13  V13     568630 non-null  float64\n",
      " 14  V14     568630 non-null  float64\n",
      " 15  V15     568630 non-null  float64\n",
      " 16  V16     568630 non-null  float64\n",
      " 17  V17     568630 non-null  float64\n",
      " 18  V18     568630 non-null  float64\n",
      " 19  V19     568630 non-null  float64\n",
      " 20  V20     568630 non-null  float64\n",
      " 21  V21     568630 non-null  float64\n",
      " 22  V22     568630 non-null  float64\n",
      " 23  V23     568630 non-null  float64\n",
      " 24  V24     568630 non-null  float64\n",
      " 25  V25     568630 non-null  float64\n",
      " 26  V26     568630 non-null  float64\n",
      " 27  V27     568630 non-null  float64\n",
      " 28  V28     568630 non-null  float64\n",
      " 29  Amount  568630 non-null  float64\n",
      " 30  Class   568630 non-null  int64  \n",
      "dtypes: float64(29), int64(2)\n",
      "memory usage: 134.5 MB\n"
     ]
    }
   ],
   "source": [
    "# More info about the data\n",
    "df.info()"
   ]
  },
  {
   "cell_type": "markdown",
   "id": "667630e5",
   "metadata": {},
   "source": [
    "No missing values detected in the dataset"
   ]
  },
  {
   "cell_type": "markdown",
   "id": "7d1dda10",
   "metadata": {},
   "source": [
    "## Data Pre-Processing"
   ]
  },
  {
   "cell_type": "code",
   "execution_count": 6,
   "id": "4cce07af",
   "metadata": {},
   "outputs": [
    {
     "data": {
      "text/html": [
       "<div>\n",
       "<style scoped>\n",
       "    .dataframe tbody tr th:only-of-type {\n",
       "        vertical-align: middle;\n",
       "    }\n",
       "\n",
       "    .dataframe tbody tr th {\n",
       "        vertical-align: top;\n",
       "    }\n",
       "\n",
       "    .dataframe thead th {\n",
       "        text-align: right;\n",
       "    }\n",
       "</style>\n",
       "<table border=\"1\" class=\"dataframe\">\n",
       "  <thead>\n",
       "    <tr style=\"text-align: right;\">\n",
       "      <th></th>\n",
       "      <th>id</th>\n",
       "      <th>V1</th>\n",
       "      <th>V2</th>\n",
       "      <th>V3</th>\n",
       "      <th>V4</th>\n",
       "      <th>V5</th>\n",
       "      <th>V6</th>\n",
       "      <th>V7</th>\n",
       "      <th>V8</th>\n",
       "      <th>V9</th>\n",
       "      <th>...</th>\n",
       "      <th>V21</th>\n",
       "      <th>V22</th>\n",
       "      <th>V23</th>\n",
       "      <th>V24</th>\n",
       "      <th>V25</th>\n",
       "      <th>V26</th>\n",
       "      <th>V27</th>\n",
       "      <th>V28</th>\n",
       "      <th>Amount</th>\n",
       "      <th>Class</th>\n",
       "    </tr>\n",
       "  </thead>\n",
       "  <tbody>\n",
       "    <tr>\n",
       "      <th>count</th>\n",
       "      <td>568630.000000</td>\n",
       "      <td>5.686300e+05</td>\n",
       "      <td>5.686300e+05</td>\n",
       "      <td>5.686300e+05</td>\n",
       "      <td>5.686300e+05</td>\n",
       "      <td>5.686300e+05</td>\n",
       "      <td>5.686300e+05</td>\n",
       "      <td>5.686300e+05</td>\n",
       "      <td>5.686300e+05</td>\n",
       "      <td>5.686300e+05</td>\n",
       "      <td>...</td>\n",
       "      <td>5.686300e+05</td>\n",
       "      <td>5.686300e+05</td>\n",
       "      <td>5.686300e+05</td>\n",
       "      <td>5.686300e+05</td>\n",
       "      <td>5.686300e+05</td>\n",
       "      <td>5.686300e+05</td>\n",
       "      <td>5.686300e+05</td>\n",
       "      <td>5.686300e+05</td>\n",
       "      <td>568630.000000</td>\n",
       "      <td>568630.0</td>\n",
       "    </tr>\n",
       "    <tr>\n",
       "      <th>mean</th>\n",
       "      <td>284314.500000</td>\n",
       "      <td>-5.638058e-17</td>\n",
       "      <td>-1.319545e-16</td>\n",
       "      <td>-3.518788e-17</td>\n",
       "      <td>-2.879008e-17</td>\n",
       "      <td>7.997245e-18</td>\n",
       "      <td>-3.958636e-17</td>\n",
       "      <td>-3.198898e-17</td>\n",
       "      <td>2.109273e-17</td>\n",
       "      <td>3.998623e-17</td>\n",
       "      <td>...</td>\n",
       "      <td>4.758361e-17</td>\n",
       "      <td>3.948640e-18</td>\n",
       "      <td>6.194741e-18</td>\n",
       "      <td>-2.799036e-18</td>\n",
       "      <td>-3.178905e-17</td>\n",
       "      <td>-7.497417e-18</td>\n",
       "      <td>-3.598760e-17</td>\n",
       "      <td>2.609101e-17</td>\n",
       "      <td>12041.957635</td>\n",
       "      <td>0.5</td>\n",
       "    </tr>\n",
       "    <tr>\n",
       "      <th>std</th>\n",
       "      <td>164149.486121</td>\n",
       "      <td>1.000001e+00</td>\n",
       "      <td>1.000001e+00</td>\n",
       "      <td>1.000001e+00</td>\n",
       "      <td>1.000001e+00</td>\n",
       "      <td>1.000001e+00</td>\n",
       "      <td>1.000001e+00</td>\n",
       "      <td>1.000001e+00</td>\n",
       "      <td>1.000001e+00</td>\n",
       "      <td>1.000001e+00</td>\n",
       "      <td>...</td>\n",
       "      <td>1.000001e+00</td>\n",
       "      <td>1.000001e+00</td>\n",
       "      <td>1.000001e+00</td>\n",
       "      <td>1.000001e+00</td>\n",
       "      <td>1.000001e+00</td>\n",
       "      <td>1.000001e+00</td>\n",
       "      <td>1.000001e+00</td>\n",
       "      <td>1.000001e+00</td>\n",
       "      <td>6919.644449</td>\n",
       "      <td>0.5</td>\n",
       "    </tr>\n",
       "    <tr>\n",
       "      <th>min</th>\n",
       "      <td>0.000000</td>\n",
       "      <td>-3.495584e+00</td>\n",
       "      <td>-4.996657e+01</td>\n",
       "      <td>-3.183760e+00</td>\n",
       "      <td>-4.951222e+00</td>\n",
       "      <td>-9.952786e+00</td>\n",
       "      <td>-2.111111e+01</td>\n",
       "      <td>-4.351839e+00</td>\n",
       "      <td>-1.075634e+01</td>\n",
       "      <td>-3.751919e+00</td>\n",
       "      <td>...</td>\n",
       "      <td>-1.938252e+01</td>\n",
       "      <td>-7.734798e+00</td>\n",
       "      <td>-3.029545e+01</td>\n",
       "      <td>-4.067968e+00</td>\n",
       "      <td>-1.361263e+01</td>\n",
       "      <td>-8.226969e+00</td>\n",
       "      <td>-1.049863e+01</td>\n",
       "      <td>-3.903524e+01</td>\n",
       "      <td>50.010000</td>\n",
       "      <td>0.0</td>\n",
       "    </tr>\n",
       "    <tr>\n",
       "      <th>25%</th>\n",
       "      <td>142157.250000</td>\n",
       "      <td>-5.652859e-01</td>\n",
       "      <td>-4.866777e-01</td>\n",
       "      <td>-6.492987e-01</td>\n",
       "      <td>-6.560203e-01</td>\n",
       "      <td>-2.934955e-01</td>\n",
       "      <td>-4.458712e-01</td>\n",
       "      <td>-2.835329e-01</td>\n",
       "      <td>-1.922572e-01</td>\n",
       "      <td>-5.687446e-01</td>\n",
       "      <td>...</td>\n",
       "      <td>-1.664408e-01</td>\n",
       "      <td>-4.904892e-01</td>\n",
       "      <td>-2.376289e-01</td>\n",
       "      <td>-6.515801e-01</td>\n",
       "      <td>-5.541485e-01</td>\n",
       "      <td>-6.318948e-01</td>\n",
       "      <td>-3.049607e-01</td>\n",
       "      <td>-2.318783e-01</td>\n",
       "      <td>6054.892500</td>\n",
       "      <td>0.0</td>\n",
       "    </tr>\n",
       "    <tr>\n",
       "      <th>50%</th>\n",
       "      <td>284314.500000</td>\n",
       "      <td>-9.363846e-02</td>\n",
       "      <td>-1.358939e-01</td>\n",
       "      <td>3.528579e-04</td>\n",
       "      <td>-7.376152e-02</td>\n",
       "      <td>8.108788e-02</td>\n",
       "      <td>7.871758e-02</td>\n",
       "      <td>2.333659e-01</td>\n",
       "      <td>-1.145242e-01</td>\n",
       "      <td>9.252647e-02</td>\n",
       "      <td>...</td>\n",
       "      <td>-3.743065e-02</td>\n",
       "      <td>-2.732881e-02</td>\n",
       "      <td>-5.968903e-02</td>\n",
       "      <td>1.590123e-02</td>\n",
       "      <td>-8.193162e-03</td>\n",
       "      <td>-1.189208e-02</td>\n",
       "      <td>-1.729111e-01</td>\n",
       "      <td>-1.392973e-02</td>\n",
       "      <td>12030.150000</td>\n",
       "      <td>0.5</td>\n",
       "    </tr>\n",
       "    <tr>\n",
       "      <th>75%</th>\n",
       "      <td>426471.750000</td>\n",
       "      <td>8.326582e-01</td>\n",
       "      <td>3.435552e-01</td>\n",
       "      <td>6.285380e-01</td>\n",
       "      <td>7.070047e-01</td>\n",
       "      <td>4.397368e-01</td>\n",
       "      <td>4.977881e-01</td>\n",
       "      <td>5.259548e-01</td>\n",
       "      <td>4.729905e-02</td>\n",
       "      <td>5.592621e-01</td>\n",
       "      <td>...</td>\n",
       "      <td>1.479787e-01</td>\n",
       "      <td>4.638817e-01</td>\n",
       "      <td>1.557153e-01</td>\n",
       "      <td>7.007374e-01</td>\n",
       "      <td>5.500147e-01</td>\n",
       "      <td>6.728879e-01</td>\n",
       "      <td>3.340230e-01</td>\n",
       "      <td>4.095903e-01</td>\n",
       "      <td>18036.330000</td>\n",
       "      <td>1.0</td>\n",
       "    </tr>\n",
       "    <tr>\n",
       "      <th>max</th>\n",
       "      <td>568629.000000</td>\n",
       "      <td>2.229046e+00</td>\n",
       "      <td>4.361865e+00</td>\n",
       "      <td>1.412583e+01</td>\n",
       "      <td>3.201536e+00</td>\n",
       "      <td>4.271689e+01</td>\n",
       "      <td>2.616840e+01</td>\n",
       "      <td>2.178730e+02</td>\n",
       "      <td>5.958040e+00</td>\n",
       "      <td>2.027006e+01</td>\n",
       "      <td>...</td>\n",
       "      <td>8.087080e+00</td>\n",
       "      <td>1.263251e+01</td>\n",
       "      <td>3.170763e+01</td>\n",
       "      <td>1.296564e+01</td>\n",
       "      <td>1.462151e+01</td>\n",
       "      <td>5.623285e+00</td>\n",
       "      <td>1.132311e+02</td>\n",
       "      <td>7.725594e+01</td>\n",
       "      <td>24039.930000</td>\n",
       "      <td>1.0</td>\n",
       "    </tr>\n",
       "  </tbody>\n",
       "</table>\n",
       "<p>8 rows × 31 columns</p>\n",
       "</div>"
      ],
      "text/plain": [
       "                  id            V1            V2            V3            V4  \\\n",
       "count  568630.000000  5.686300e+05  5.686300e+05  5.686300e+05  5.686300e+05   \n",
       "mean   284314.500000 -5.638058e-17 -1.319545e-16 -3.518788e-17 -2.879008e-17   \n",
       "std    164149.486121  1.000001e+00  1.000001e+00  1.000001e+00  1.000001e+00   \n",
       "min         0.000000 -3.495584e+00 -4.996657e+01 -3.183760e+00 -4.951222e+00   \n",
       "25%    142157.250000 -5.652859e-01 -4.866777e-01 -6.492987e-01 -6.560203e-01   \n",
       "50%    284314.500000 -9.363846e-02 -1.358939e-01  3.528579e-04 -7.376152e-02   \n",
       "75%    426471.750000  8.326582e-01  3.435552e-01  6.285380e-01  7.070047e-01   \n",
       "max    568629.000000  2.229046e+00  4.361865e+00  1.412583e+01  3.201536e+00   \n",
       "\n",
       "                 V5            V6            V7            V8            V9  \\\n",
       "count  5.686300e+05  5.686300e+05  5.686300e+05  5.686300e+05  5.686300e+05   \n",
       "mean   7.997245e-18 -3.958636e-17 -3.198898e-17  2.109273e-17  3.998623e-17   \n",
       "std    1.000001e+00  1.000001e+00  1.000001e+00  1.000001e+00  1.000001e+00   \n",
       "min   -9.952786e+00 -2.111111e+01 -4.351839e+00 -1.075634e+01 -3.751919e+00   \n",
       "25%   -2.934955e-01 -4.458712e-01 -2.835329e-01 -1.922572e-01 -5.687446e-01   \n",
       "50%    8.108788e-02  7.871758e-02  2.333659e-01 -1.145242e-01  9.252647e-02   \n",
       "75%    4.397368e-01  4.977881e-01  5.259548e-01  4.729905e-02  5.592621e-01   \n",
       "max    4.271689e+01  2.616840e+01  2.178730e+02  5.958040e+00  2.027006e+01   \n",
       "\n",
       "       ...           V21           V22           V23           V24  \\\n",
       "count  ...  5.686300e+05  5.686300e+05  5.686300e+05  5.686300e+05   \n",
       "mean   ...  4.758361e-17  3.948640e-18  6.194741e-18 -2.799036e-18   \n",
       "std    ...  1.000001e+00  1.000001e+00  1.000001e+00  1.000001e+00   \n",
       "min    ... -1.938252e+01 -7.734798e+00 -3.029545e+01 -4.067968e+00   \n",
       "25%    ... -1.664408e-01 -4.904892e-01 -2.376289e-01 -6.515801e-01   \n",
       "50%    ... -3.743065e-02 -2.732881e-02 -5.968903e-02  1.590123e-02   \n",
       "75%    ...  1.479787e-01  4.638817e-01  1.557153e-01  7.007374e-01   \n",
       "max    ...  8.087080e+00  1.263251e+01  3.170763e+01  1.296564e+01   \n",
       "\n",
       "                V25           V26           V27           V28         Amount  \\\n",
       "count  5.686300e+05  5.686300e+05  5.686300e+05  5.686300e+05  568630.000000   \n",
       "mean  -3.178905e-17 -7.497417e-18 -3.598760e-17  2.609101e-17   12041.957635   \n",
       "std    1.000001e+00  1.000001e+00  1.000001e+00  1.000001e+00    6919.644449   \n",
       "min   -1.361263e+01 -8.226969e+00 -1.049863e+01 -3.903524e+01      50.010000   \n",
       "25%   -5.541485e-01 -6.318948e-01 -3.049607e-01 -2.318783e-01    6054.892500   \n",
       "50%   -8.193162e-03 -1.189208e-02 -1.729111e-01 -1.392973e-02   12030.150000   \n",
       "75%    5.500147e-01  6.728879e-01  3.340230e-01  4.095903e-01   18036.330000   \n",
       "max    1.462151e+01  5.623285e+00  1.132311e+02  7.725594e+01   24039.930000   \n",
       "\n",
       "          Class  \n",
       "count  568630.0  \n",
       "mean        0.5  \n",
       "std         0.5  \n",
       "min         0.0  \n",
       "25%         0.0  \n",
       "50%         0.5  \n",
       "75%         1.0  \n",
       "max         1.0  \n",
       "\n",
       "[8 rows x 31 columns]"
      ]
     },
     "execution_count": 6,
     "metadata": {},
     "output_type": "execute_result"
    }
   ],
   "source": [
    "# Performing EDD for numerical variables\n",
    "df.describe()"
   ]
  },
  {
   "cell_type": "markdown",
   "id": "82092f64",
   "metadata": {},
   "source": [
    "### Counting total fraudulent and non-fraudulent class"
   ]
  },
  {
   "cell_type": "code",
   "execution_count": 11,
   "id": "989b7363",
   "metadata": {},
   "outputs": [
    {
     "data": {
      "image/png": "[encoded data removed]",
      "text/plain": [
       "<Figure size 640x480 with 1 Axes>"
      ]
     },
     "metadata": {},
     "output_type": "display_data"
    }
   ],
   "source": [
    "import matplotlib.pyplot as plt\n",
    "ax = sns.countplot(data=df, x='Class')\n",
    "for label in ax.containers:\n",
    "    ax.bar_label(label)\n",
    "plt.show()"
   ]
  },
  {
   "cell_type": "markdown",
   "id": "f19de6a6",
   "metadata": {},
   "source": [
    "284315 or 50% of the transaction are fraudulent"
   ]
  },
  {
   "cell_type": "markdown",
   "id": "b1b6a052",
   "metadata": {},
   "source": [
    "### Plotting Transaction Amount"
   ]
  },
  {
   "cell_type": "code",
   "execution_count": 45,
   "id": "56b38b3e",
   "metadata": {},
   "outputs": [
    {
     "data": {
      "text/plain": [
       "<Axes: xlabel='Class', ylabel='Amount'>"
      ]
     },
     "execution_count": 45,
     "metadata": {},
     "output_type": "execute_result"
    },
    {
     "data": {
      "image/png": "[encoded data removed]",
      "text/plain": [
       "<Figure size 640x480 with 1 Axes>"
      ]
     },
     "metadata": {},
     "output_type": "display_data"
    }
   ],
   "source": [
    "# plotting a box plot to visualize transaction amount in each class\n",
    "sns.boxplot(x=df[\"Class\"], y=df[\"Amount\"], hue=df[\"Class\"])"
   ]
  },
  {
   "cell_type": "markdown",
   "id": "a66a0b43",
   "metadata": {},
   "source": [
    "As we can see from the above chart the transaction amount seems to be equaly distributed in both classes"
   ]
  },
  {
   "cell_type": "markdown",
   "id": "49d04a2c",
   "metadata": {},
   "source": [
    "### Visualizing the data distribution in each variable of the dataset"
   ]
  },
  {
   "cell_type": "code",
   "execution_count": 17,
   "id": "e50229a3",
   "metadata": {},
   "outputs": [
    {
     "data": {
      "image/png": "[encoded data removed]",
      "text/plain": [
       "<Figure size 2000x2000 with 36 Axes>"
      ]
     },
     "metadata": {},
     "output_type": "display_data"
    }
   ],
   "source": [
    "# plotting the histogram of each parameter\n",
    "df.hist(figsize = (20, 20))\n",
    "plt.show()"
   ]
  },
  {
   "cell_type": "markdown",
   "id": "3f250b38",
   "metadata": {},
   "source": [
    "## Creating Correlation Matrix"
   ]
  },
  {
   "cell_type": "markdown",
   "id": "bbb1179a",
   "metadata": {},
   "source": [
    "Creating a correlation matrix to find out any highly correlated variable in the dataset if any"
   ]
  },
  {
   "cell_type": "code",
   "execution_count": 5,
   "id": "b74b1d9c",
   "metadata": {},
   "outputs": [
    {
     "data": {
      "text/html": [
       "<div>\n",
       "<style scoped>\n",
       "    .dataframe tbody tr th:only-of-type {\n",
       "        vertical-align: middle;\n",
       "    }\n",
       "\n",
       "    .dataframe tbody tr th {\n",
       "        vertical-align: top;\n",
       "    }\n",
       "\n",
       "    .dataframe thead th {\n",
       "        text-align: right;\n",
       "    }\n",
       "</style>\n",
       "<table border=\"1\" class=\"dataframe\">\n",
       "  <thead>\n",
       "    <tr style=\"text-align: right;\">\n",
       "      <th></th>\n",
       "      <th>id</th>\n",
       "      <th>V1</th>\n",
       "      <th>V2</th>\n",
       "      <th>V3</th>\n",
       "      <th>V4</th>\n",
       "      <th>V5</th>\n",
       "      <th>V6</th>\n",
       "      <th>V7</th>\n",
       "      <th>V8</th>\n",
       "      <th>V9</th>\n",
       "      <th>...</th>\n",
       "      <th>V21</th>\n",
       "      <th>V22</th>\n",
       "      <th>V23</th>\n",
       "      <th>V24</th>\n",
       "      <th>V25</th>\n",
       "      <th>V26</th>\n",
       "      <th>V27</th>\n",
       "      <th>V28</th>\n",
       "      <th>Amount</th>\n",
       "      <th>Class</th>\n",
       "    </tr>\n",
       "  </thead>\n",
       "  <tbody>\n",
       "    <tr>\n",
       "      <th>id</th>\n",
       "      <td>1.000000</td>\n",
       "      <td>-0.395741</td>\n",
       "      <td>0.424267</td>\n",
       "      <td>-0.663655</td>\n",
       "      <td>0.617554</td>\n",
       "      <td>-0.268445</td>\n",
       "      <td>-0.387916</td>\n",
       "      <td>-0.414288</td>\n",
       "      <td>0.121282</td>\n",
       "      <td>-0.508427</td>\n",
       "      <td>...</td>\n",
       "      <td>0.097948</td>\n",
       "      <td>0.036106</td>\n",
       "      <td>0.017594</td>\n",
       "      <td>-0.116685</td>\n",
       "      <td>0.005586</td>\n",
       "      <td>0.052126</td>\n",
       "      <td>0.184195</td>\n",
       "      <td>0.086822</td>\n",
       "      <td>0.001710</td>\n",
       "      <td>0.864283</td>\n",
       "    </tr>\n",
       "    <tr>\n",
       "      <th>V1</th>\n",
       "      <td>-0.395741</td>\n",
       "      <td>1.000000</td>\n",
       "      <td>-0.561184</td>\n",
       "      <td>0.484499</td>\n",
       "      <td>-0.498963</td>\n",
       "      <td>0.517462</td>\n",
       "      <td>0.354728</td>\n",
       "      <td>0.573381</td>\n",
       "      <td>-0.226757</td>\n",
       "      <td>0.548973</td>\n",
       "      <td>...</td>\n",
       "      <td>-0.034669</td>\n",
       "      <td>-0.073729</td>\n",
       "      <td>-0.068917</td>\n",
       "      <td>-0.014651</td>\n",
       "      <td>-0.008508</td>\n",
       "      <td>0.009281</td>\n",
       "      <td>-0.122772</td>\n",
       "      <td>0.070111</td>\n",
       "      <td>-0.001280</td>\n",
       "      <td>-0.505761</td>\n",
       "    </tr>\n",
       "    <tr>\n",
       "      <th>V2</th>\n",
       "      <td>0.424267</td>\n",
       "      <td>-0.561184</td>\n",
       "      <td>1.000000</td>\n",
       "      <td>-0.627810</td>\n",
       "      <td>0.579638</td>\n",
       "      <td>-0.631669</td>\n",
       "      <td>-0.341040</td>\n",
       "      <td>-0.694022</td>\n",
       "      <td>0.191321</td>\n",
       "      <td>-0.585095</td>\n",
       "      <td>...</td>\n",
       "      <td>-0.013570</td>\n",
       "      <td>0.035346</td>\n",
       "      <td>0.151906</td>\n",
       "      <td>-0.027515</td>\n",
       "      <td>0.132443</td>\n",
       "      <td>0.012219</td>\n",
       "      <td>0.053835</td>\n",
       "      <td>0.021071</td>\n",
       "      <td>-0.000076</td>\n",
       "      <td>0.491878</td>\n",
       "    </tr>\n",
       "    <tr>\n",
       "      <th>V3</th>\n",
       "      <td>-0.663655</td>\n",
       "      <td>0.484499</td>\n",
       "      <td>-0.627810</td>\n",
       "      <td>1.000000</td>\n",
       "      <td>-0.687726</td>\n",
       "      <td>0.510351</td>\n",
       "      <td>0.508974</td>\n",
       "      <td>0.634336</td>\n",
       "      <td>-0.263018</td>\n",
       "      <td>0.648615</td>\n",
       "      <td>...</td>\n",
       "      <td>-0.021710</td>\n",
       "      <td>-0.041970</td>\n",
       "      <td>-0.058884</td>\n",
       "      <td>0.076460</td>\n",
       "      <td>-0.076332</td>\n",
       "      <td>-0.052056</td>\n",
       "      <td>-0.190582</td>\n",
       "      <td>0.005346</td>\n",
       "      <td>-0.002001</td>\n",
       "      <td>-0.682095</td>\n",
       "    </tr>\n",
       "    <tr>\n",
       "      <th>V4</th>\n",
       "      <td>0.617554</td>\n",
       "      <td>-0.498963</td>\n",
       "      <td>0.579638</td>\n",
       "      <td>-0.687726</td>\n",
       "      <td>1.000000</td>\n",
       "      <td>-0.429243</td>\n",
       "      <td>-0.474403</td>\n",
       "      <td>-0.588648</td>\n",
       "      <td>0.199013</td>\n",
       "      <td>-0.676648</td>\n",
       "      <td>...</td>\n",
       "      <td>-0.013093</td>\n",
       "      <td>0.091197</td>\n",
       "      <td>0.043266</td>\n",
       "      <td>-0.102508</td>\n",
       "      <td>0.029402</td>\n",
       "      <td>0.136679</td>\n",
       "      <td>0.188036</td>\n",
       "      <td>-0.011316</td>\n",
       "      <td>0.001859</td>\n",
       "      <td>0.735981</td>\n",
       "    </tr>\n",
       "    <tr>\n",
       "      <th>V5</th>\n",
       "      <td>-0.268445</td>\n",
       "      <td>0.517462</td>\n",
       "      <td>-0.631669</td>\n",
       "      <td>0.510351</td>\n",
       "      <td>-0.429243</td>\n",
       "      <td>1.000000</td>\n",
       "      <td>0.245187</td>\n",
       "      <td>0.586828</td>\n",
       "      <td>-0.314975</td>\n",
       "      <td>0.479614</td>\n",
       "      <td>...</td>\n",
       "      <td>0.034147</td>\n",
       "      <td>-0.119152</td>\n",
       "      <td>-0.113919</td>\n",
       "      <td>-0.083243</td>\n",
       "      <td>-0.047845</td>\n",
       "      <td>0.047771</td>\n",
       "      <td>-0.043759</td>\n",
       "      <td>0.108422</td>\n",
       "      <td>-0.000016</td>\n",
       "      <td>-0.338639</td>\n",
       "    </tr>\n",
       "    <tr>\n",
       "      <th>V6</th>\n",
       "      <td>-0.387916</td>\n",
       "      <td>0.354728</td>\n",
       "      <td>-0.341040</td>\n",
       "      <td>0.508974</td>\n",
       "      <td>-0.474403</td>\n",
       "      <td>0.245187</td>\n",
       "      <td>1.000000</td>\n",
       "      <td>0.418703</td>\n",
       "      <td>-0.604491</td>\n",
       "      <td>0.432241</td>\n",
       "      <td>...</td>\n",
       "      <td>-0.040153</td>\n",
       "      <td>0.036896</td>\n",
       "      <td>0.308598</td>\n",
       "      <td>-0.005237</td>\n",
       "      <td>-0.195340</td>\n",
       "      <td>-0.067605</td>\n",
       "      <td>-0.260783</td>\n",
       "      <td>-0.065641</td>\n",
       "      <td>0.000734</td>\n",
       "      <td>-0.435088</td>\n",
       "    </tr>\n",
       "    <tr>\n",
       "      <th>V7</th>\n",
       "      <td>-0.414288</td>\n",
       "      <td>0.573381</td>\n",
       "      <td>-0.694022</td>\n",
       "      <td>0.634336</td>\n",
       "      <td>-0.588648</td>\n",
       "      <td>0.586828</td>\n",
       "      <td>0.418703</td>\n",
       "      <td>1.000000</td>\n",
       "      <td>-0.180986</td>\n",
       "      <td>0.601789</td>\n",
       "      <td>...</td>\n",
       "      <td>0.019627</td>\n",
       "      <td>-0.104043</td>\n",
       "      <td>-0.111177</td>\n",
       "      <td>-0.004152</td>\n",
       "      <td>0.000802</td>\n",
       "      <td>-0.006488</td>\n",
       "      <td>-0.036557</td>\n",
       "      <td>0.040732</td>\n",
       "      <td>0.001326</td>\n",
       "      <td>-0.491234</td>\n",
       "    </tr>\n",
       "    <tr>\n",
       "      <th>V8</th>\n",
       "      <td>0.121282</td>\n",
       "      <td>-0.226757</td>\n",
       "      <td>0.191321</td>\n",
       "      <td>-0.263018</td>\n",
       "      <td>0.199013</td>\n",
       "      <td>-0.314975</td>\n",
       "      <td>-0.604491</td>\n",
       "      <td>-0.180986</td>\n",
       "      <td>1.000000</td>\n",
       "      <td>-0.208557</td>\n",
       "      <td>...</td>\n",
       "      <td>0.056416</td>\n",
       "      <td>-0.098752</td>\n",
       "      <td>-0.463649</td>\n",
       "      <td>0.083272</td>\n",
       "      <td>0.322639</td>\n",
       "      <td>0.040448</td>\n",
       "      <td>0.298398</td>\n",
       "      <td>0.046017</td>\n",
       "      <td>-0.000208</td>\n",
       "      <td>0.144294</td>\n",
       "    </tr>\n",
       "    <tr>\n",
       "      <th>V9</th>\n",
       "      <td>-0.508427</td>\n",
       "      <td>0.548973</td>\n",
       "      <td>-0.585095</td>\n",
       "      <td>0.648615</td>\n",
       "      <td>-0.676648</td>\n",
       "      <td>0.479614</td>\n",
       "      <td>0.432241</td>\n",
       "      <td>0.601789</td>\n",
       "      <td>-0.208557</td>\n",
       "      <td>1.000000</td>\n",
       "      <td>...</td>\n",
       "      <td>0.131001</td>\n",
       "      <td>-0.204723</td>\n",
       "      <td>-0.042371</td>\n",
       "      <td>0.044006</td>\n",
       "      <td>-0.034885</td>\n",
       "      <td>-0.131000</td>\n",
       "      <td>-0.111842</td>\n",
       "      <td>0.069959</td>\n",
       "      <td>-0.001589</td>\n",
       "      <td>-0.585522</td>\n",
       "    </tr>\n",
       "    <tr>\n",
       "      <th>V10</th>\n",
       "      <td>-0.578014</td>\n",
       "      <td>0.599108</td>\n",
       "      <td>-0.621798</td>\n",
       "      <td>0.707676</td>\n",
       "      <td>-0.712839</td>\n",
       "      <td>0.563874</td>\n",
       "      <td>0.471000</td>\n",
       "      <td>0.678004</td>\n",
       "      <td>-0.199995</td>\n",
       "      <td>0.748487</td>\n",
       "      <td>...</td>\n",
       "      <td>0.037426</td>\n",
       "      <td>-0.150957</td>\n",
       "      <td>-0.056285</td>\n",
       "      <td>0.045935</td>\n",
       "      <td>-0.014045</td>\n",
       "      <td>-0.053684</td>\n",
       "      <td>-0.134907</td>\n",
       "      <td>0.035646</td>\n",
       "      <td>-0.001259</td>\n",
       "      <td>-0.673665</td>\n",
       "    </tr>\n",
       "    <tr>\n",
       "      <th>V11</th>\n",
       "      <td>0.589321</td>\n",
       "      <td>-0.525797</td>\n",
       "      <td>0.558863</td>\n",
       "      <td>-0.688436</td>\n",
       "      <td>0.708642</td>\n",
       "      <td>-0.440100</td>\n",
       "      <td>-0.497611</td>\n",
       "      <td>-0.587660</td>\n",
       "      <td>0.223052</td>\n",
       "      <td>-0.633556</td>\n",
       "      <td>...</td>\n",
       "      <td>0.111608</td>\n",
       "      <td>0.022153</td>\n",
       "      <td>0.013596</td>\n",
       "      <td>-0.104340</td>\n",
       "      <td>0.051535</td>\n",
       "      <td>0.133635</td>\n",
       "      <td>0.290912</td>\n",
       "      <td>0.059732</td>\n",
       "      <td>0.000292</td>\n",
       "      <td>0.724278</td>\n",
       "    </tr>\n",
       "    <tr>\n",
       "      <th>V12</th>\n",
       "      <td>-0.652940</td>\n",
       "      <td>0.580715</td>\n",
       "      <td>-0.574935</td>\n",
       "      <td>0.705497</td>\n",
       "      <td>-0.722597</td>\n",
       "      <td>0.473002</td>\n",
       "      <td>0.498993</td>\n",
       "      <td>0.603318</td>\n",
       "      <td>-0.211999</td>\n",
       "      <td>0.667266</td>\n",
       "      <td>...</td>\n",
       "      <td>-0.080394</td>\n",
       "      <td>-0.072096</td>\n",
       "      <td>-0.019261</td>\n",
       "      <td>0.080407</td>\n",
       "      <td>-0.010350</td>\n",
       "      <td>-0.114272</td>\n",
       "      <td>-0.216563</td>\n",
       "      <td>-0.053136</td>\n",
       "      <td>-0.001245</td>\n",
       "      <td>-0.768579</td>\n",
       "    </tr>\n",
       "    <tr>\n",
       "      <th>V13</th>\n",
       "      <td>-0.076331</td>\n",
       "      <td>-0.020567</td>\n",
       "      <td>0.012801</td>\n",
       "      <td>-0.019272</td>\n",
       "      <td>0.011519</td>\n",
       "      <td>-0.115317</td>\n",
       "      <td>-0.117637</td>\n",
       "      <td>-0.030000</td>\n",
       "      <td>0.273958</td>\n",
       "      <td>-0.006167</td>\n",
       "      <td>...</td>\n",
       "      <td>0.025529</td>\n",
       "      <td>0.002039</td>\n",
       "      <td>-0.123520</td>\n",
       "      <td>0.060097</td>\n",
       "      <td>0.003580</td>\n",
       "      <td>0.043750</td>\n",
       "      <td>0.058483</td>\n",
       "      <td>-0.101488</td>\n",
       "      <td>-0.002718</td>\n",
       "      <td>-0.071105</td>\n",
       "    </tr>\n",
       "    <tr>\n",
       "      <th>V14</th>\n",
       "      <td>-0.709346</td>\n",
       "      <td>0.494427</td>\n",
       "      <td>-0.523294</td>\n",
       "      <td>0.673179</td>\n",
       "      <td>-0.714847</td>\n",
       "      <td>0.387454</td>\n",
       "      <td>0.510123</td>\n",
       "      <td>0.535612</td>\n",
       "      <td>-0.216410</td>\n",
       "      <td>0.633212</td>\n",
       "      <td>...</td>\n",
       "      <td>-0.189902</td>\n",
       "      <td>0.052023</td>\n",
       "      <td>-0.007601</td>\n",
       "      <td>0.138718</td>\n",
       "      <td>-0.087040</td>\n",
       "      <td>-0.142472</td>\n",
       "      <td>-0.299951</td>\n",
       "      <td>-0.127969</td>\n",
       "      <td>-0.001363</td>\n",
       "      <td>-0.805669</td>\n",
       "    </tr>\n",
       "    <tr>\n",
       "      <th>V15</th>\n",
       "      <td>-0.080004</td>\n",
       "      <td>0.046002</td>\n",
       "      <td>-0.161325</td>\n",
       "      <td>0.098516</td>\n",
       "      <td>-0.098627</td>\n",
       "      <td>0.058686</td>\n",
       "      <td>-0.023851</td>\n",
       "      <td>0.135939</td>\n",
       "      <td>0.101690</td>\n",
       "      <td>0.114613</td>\n",
       "      <td>...</td>\n",
       "      <td>0.171719</td>\n",
       "      <td>-0.099347</td>\n",
       "      <td>-0.074832</td>\n",
       "      <td>0.023003</td>\n",
       "      <td>-0.027579</td>\n",
       "      <td>0.047833</td>\n",
       "      <td>0.116106</td>\n",
       "      <td>0.100293</td>\n",
       "      <td>0.001190</td>\n",
       "      <td>-0.037948</td>\n",
       "    </tr>\n",
       "    <tr>\n",
       "      <th>V16</th>\n",
       "      <td>-0.494255</td>\n",
       "      <td>0.621884</td>\n",
       "      <td>-0.534392</td>\n",
       "      <td>0.614504</td>\n",
       "      <td>-0.593948</td>\n",
       "      <td>0.596898</td>\n",
       "      <td>0.415834</td>\n",
       "      <td>0.667244</td>\n",
       "      <td>-0.230638</td>\n",
       "      <td>0.573957</td>\n",
       "      <td>...</td>\n",
       "      <td>-0.117591</td>\n",
       "      <td>-0.101847</td>\n",
       "      <td>-0.057100</td>\n",
       "      <td>-0.023511</td>\n",
       "      <td>0.062484</td>\n",
       "      <td>-0.056184</td>\n",
       "      <td>-0.191742</td>\n",
       "      <td>-0.022328</td>\n",
       "      <td>-0.000479</td>\n",
       "      <td>-0.573511</td>\n",
       "    </tr>\n",
       "    <tr>\n",
       "      <th>V17</th>\n",
       "      <td>-0.417226</td>\n",
       "      <td>0.605799</td>\n",
       "      <td>-0.495836</td>\n",
       "      <td>0.578223</td>\n",
       "      <td>-0.532786</td>\n",
       "      <td>0.669625</td>\n",
       "      <td>0.378152</td>\n",
       "      <td>0.655755</td>\n",
       "      <td>-0.277246</td>\n",
       "      <td>0.581604</td>\n",
       "      <td>...</td>\n",
       "      <td>-0.079348</td>\n",
       "      <td>-0.144637</td>\n",
       "      <td>-0.044635</td>\n",
       "      <td>-0.072198</td>\n",
       "      <td>0.075609</td>\n",
       "      <td>-0.045189</td>\n",
       "      <td>-0.184550</td>\n",
       "      <td>0.019570</td>\n",
       "      <td>-0.000358</td>\n",
       "      <td>-0.476377</td>\n",
       "    </tr>\n",
       "    <tr>\n",
       "      <th>V18</th>\n",
       "      <td>-0.341056</td>\n",
       "      <td>0.577296</td>\n",
       "      <td>-0.482162</td>\n",
       "      <td>0.525509</td>\n",
       "      <td>-0.482267</td>\n",
       "      <td>0.645095</td>\n",
       "      <td>0.328019</td>\n",
       "      <td>0.625680</td>\n",
       "      <td>-0.249986</td>\n",
       "      <td>0.522720</td>\n",
       "      <td>...</td>\n",
       "      <td>-0.060862</td>\n",
       "      <td>-0.135994</td>\n",
       "      <td>-0.046262</td>\n",
       "      <td>-0.099745</td>\n",
       "      <td>0.070467</td>\n",
       "      <td>-0.021039</td>\n",
       "      <td>-0.141790</td>\n",
       "      <td>0.052547</td>\n",
       "      <td>-0.001516</td>\n",
       "      <td>-0.410091</td>\n",
       "    </tr>\n",
       "    <tr>\n",
       "      <th>V19</th>\n",
       "      <td>0.216276</td>\n",
       "      <td>-0.377803</td>\n",
       "      <td>0.208821</td>\n",
       "      <td>-0.314396</td>\n",
       "      <td>0.269842</td>\n",
       "      <td>-0.438118</td>\n",
       "      <td>-0.235623</td>\n",
       "      <td>-0.372270</td>\n",
       "      <td>0.253272</td>\n",
       "      <td>-0.294432</td>\n",
       "      <td>...</td>\n",
       "      <td>0.136080</td>\n",
       "      <td>0.110066</td>\n",
       "      <td>-0.001529</td>\n",
       "      <td>0.110751</td>\n",
       "      <td>-0.174328</td>\n",
       "      <td>0.041421</td>\n",
       "      <td>0.123266</td>\n",
       "      <td>-0.024368</td>\n",
       "      <td>-0.000400</td>\n",
       "      <td>0.244081</td>\n",
       "    </tr>\n",
       "    <tr>\n",
       "      <th>V20</th>\n",
       "      <td>0.145803</td>\n",
       "      <td>-0.219164</td>\n",
       "      <td>0.263707</td>\n",
       "      <td>-0.253805</td>\n",
       "      <td>0.257236</td>\n",
       "      <td>-0.246694</td>\n",
       "      <td>-0.188360</td>\n",
       "      <td>-0.299436</td>\n",
       "      <td>0.131354</td>\n",
       "      <td>-0.328975</td>\n",
       "      <td>...</td>\n",
       "      <td>-0.529918</td>\n",
       "      <td>0.429362</td>\n",
       "      <td>0.017204</td>\n",
       "      <td>-0.020316</td>\n",
       "      <td>0.030478</td>\n",
       "      <td>0.007677</td>\n",
       "      <td>-0.055183</td>\n",
       "      <td>-0.035727</td>\n",
       "      <td>-0.001405</td>\n",
       "      <td>0.179851</td>\n",
       "    </tr>\n",
       "    <tr>\n",
       "      <th>V21</th>\n",
       "      <td>0.097948</td>\n",
       "      <td>-0.034669</td>\n",
       "      <td>-0.013570</td>\n",
       "      <td>-0.021710</td>\n",
       "      <td>-0.013093</td>\n",
       "      <td>0.034147</td>\n",
       "      <td>-0.040153</td>\n",
       "      <td>0.019627</td>\n",
       "      <td>0.056416</td>\n",
       "      <td>0.131001</td>\n",
       "      <td>...</td>\n",
       "      <td>1.000000</td>\n",
       "      <td>-0.734653</td>\n",
       "      <td>0.096587</td>\n",
       "      <td>-0.059190</td>\n",
       "      <td>0.146164</td>\n",
       "      <td>0.070050</td>\n",
       "      <td>0.373256</td>\n",
       "      <td>0.326677</td>\n",
       "      <td>0.001029</td>\n",
       "      <td>0.109640</td>\n",
       "    </tr>\n",
       "    <tr>\n",
       "      <th>V22</th>\n",
       "      <td>0.036106</td>\n",
       "      <td>-0.073729</td>\n",
       "      <td>0.035346</td>\n",
       "      <td>-0.041970</td>\n",
       "      <td>0.091197</td>\n",
       "      <td>-0.119152</td>\n",
       "      <td>0.036896</td>\n",
       "      <td>-0.104043</td>\n",
       "      <td>-0.098752</td>\n",
       "      <td>-0.204723</td>\n",
       "      <td>...</td>\n",
       "      <td>-0.734653</td>\n",
       "      <td>1.000000</td>\n",
       "      <td>-0.000636</td>\n",
       "      <td>0.079790</td>\n",
       "      <td>-0.258956</td>\n",
       "      <td>-0.015127</td>\n",
       "      <td>-0.340640</td>\n",
       "      <td>-0.282893</td>\n",
       "      <td>-0.000942</td>\n",
       "      <td>0.014098</td>\n",
       "    </tr>\n",
       "    <tr>\n",
       "      <th>V23</th>\n",
       "      <td>0.017594</td>\n",
       "      <td>-0.068917</td>\n",
       "      <td>0.151906</td>\n",
       "      <td>-0.058884</td>\n",
       "      <td>0.043266</td>\n",
       "      <td>-0.113919</td>\n",
       "      <td>0.308598</td>\n",
       "      <td>-0.111177</td>\n",
       "      <td>-0.463649</td>\n",
       "      <td>-0.042371</td>\n",
       "      <td>...</td>\n",
       "      <td>0.096587</td>\n",
       "      <td>-0.000636</td>\n",
       "      <td>1.000000</td>\n",
       "      <td>-0.051181</td>\n",
       "      <td>-0.040882</td>\n",
       "      <td>0.001057</td>\n",
       "      <td>-0.151698</td>\n",
       "      <td>0.028059</td>\n",
       "      <td>-0.001981</td>\n",
       "      <td>0.010255</td>\n",
       "    </tr>\n",
       "    <tr>\n",
       "      <th>V24</th>\n",
       "      <td>-0.116685</td>\n",
       "      <td>-0.014651</td>\n",
       "      <td>-0.027515</td>\n",
       "      <td>0.076460</td>\n",
       "      <td>-0.102508</td>\n",
       "      <td>-0.083243</td>\n",
       "      <td>-0.005237</td>\n",
       "      <td>-0.004152</td>\n",
       "      <td>0.083272</td>\n",
       "      <td>0.044006</td>\n",
       "      <td>...</td>\n",
       "      <td>-0.059190</td>\n",
       "      <td>0.079790</td>\n",
       "      <td>-0.051181</td>\n",
       "      <td>1.000000</td>\n",
       "      <td>-0.079604</td>\n",
       "      <td>-0.113362</td>\n",
       "      <td>-0.194899</td>\n",
       "      <td>-0.045189</td>\n",
       "      <td>-0.000846</td>\n",
       "      <td>-0.130107</td>\n",
       "    </tr>\n",
       "    <tr>\n",
       "      <th>V25</th>\n",
       "      <td>0.005586</td>\n",
       "      <td>-0.008508</td>\n",
       "      <td>0.132443</td>\n",
       "      <td>-0.076332</td>\n",
       "      <td>0.029402</td>\n",
       "      <td>-0.047845</td>\n",
       "      <td>-0.195340</td>\n",
       "      <td>0.000802</td>\n",
       "      <td>0.322639</td>\n",
       "      <td>-0.034885</td>\n",
       "      <td>...</td>\n",
       "      <td>0.146164</td>\n",
       "      <td>-0.258956</td>\n",
       "      <td>-0.040882</td>\n",
       "      <td>-0.079604</td>\n",
       "      <td>1.000000</td>\n",
       "      <td>0.057546</td>\n",
       "      <td>0.215653</td>\n",
       "      <td>0.176058</td>\n",
       "      <td>-0.000720</td>\n",
       "      <td>0.061847</td>\n",
       "    </tr>\n",
       "    <tr>\n",
       "      <th>V26</th>\n",
       "      <td>0.052126</td>\n",
       "      <td>0.009281</td>\n",
       "      <td>0.012219</td>\n",
       "      <td>-0.052056</td>\n",
       "      <td>0.136679</td>\n",
       "      <td>0.047771</td>\n",
       "      <td>-0.067605</td>\n",
       "      <td>-0.006488</td>\n",
       "      <td>0.040448</td>\n",
       "      <td>-0.131000</td>\n",
       "      <td>...</td>\n",
       "      <td>0.070050</td>\n",
       "      <td>-0.015127</td>\n",
       "      <td>0.001057</td>\n",
       "      <td>-0.113362</td>\n",
       "      <td>0.057546</td>\n",
       "      <td>1.000000</td>\n",
       "      <td>0.193977</td>\n",
       "      <td>0.036830</td>\n",
       "      <td>-0.000120</td>\n",
       "      <td>0.071052</td>\n",
       "    </tr>\n",
       "    <tr>\n",
       "      <th>V27</th>\n",
       "      <td>0.184195</td>\n",
       "      <td>-0.122772</td>\n",
       "      <td>0.053835</td>\n",
       "      <td>-0.190582</td>\n",
       "      <td>0.188036</td>\n",
       "      <td>-0.043759</td>\n",
       "      <td>-0.260783</td>\n",
       "      <td>-0.036557</td>\n",
       "      <td>0.298398</td>\n",
       "      <td>-0.111842</td>\n",
       "      <td>...</td>\n",
       "      <td>0.373256</td>\n",
       "      <td>-0.340640</td>\n",
       "      <td>-0.151698</td>\n",
       "      <td>-0.194899</td>\n",
       "      <td>0.215653</td>\n",
       "      <td>0.193977</td>\n",
       "      <td>1.000000</td>\n",
       "      <td>0.183233</td>\n",
       "      <td>0.001235</td>\n",
       "      <td>0.214002</td>\n",
       "    </tr>\n",
       "    <tr>\n",
       "      <th>V28</th>\n",
       "      <td>0.086822</td>\n",
       "      <td>0.070111</td>\n",
       "      <td>0.021071</td>\n",
       "      <td>0.005346</td>\n",
       "      <td>-0.011316</td>\n",
       "      <td>0.108422</td>\n",
       "      <td>-0.065641</td>\n",
       "      <td>0.040732</td>\n",
       "      <td>0.046017</td>\n",
       "      <td>0.069959</td>\n",
       "      <td>...</td>\n",
       "      <td>0.326677</td>\n",
       "      <td>-0.282893</td>\n",
       "      <td>0.028059</td>\n",
       "      <td>-0.045189</td>\n",
       "      <td>0.176058</td>\n",
       "      <td>0.036830</td>\n",
       "      <td>0.183233</td>\n",
       "      <td>1.000000</td>\n",
       "      <td>-0.001503</td>\n",
       "      <td>0.102024</td>\n",
       "    </tr>\n",
       "    <tr>\n",
       "      <th>Amount</th>\n",
       "      <td>0.001710</td>\n",
       "      <td>-0.001280</td>\n",
       "      <td>-0.000076</td>\n",
       "      <td>-0.002001</td>\n",
       "      <td>0.001859</td>\n",
       "      <td>-0.000016</td>\n",
       "      <td>0.000734</td>\n",
       "      <td>0.001326</td>\n",
       "      <td>-0.000208</td>\n",
       "      <td>-0.001589</td>\n",
       "      <td>...</td>\n",
       "      <td>0.001029</td>\n",
       "      <td>-0.000942</td>\n",
       "      <td>-0.001981</td>\n",
       "      <td>-0.000846</td>\n",
       "      <td>-0.000720</td>\n",
       "      <td>-0.000120</td>\n",
       "      <td>0.001235</td>\n",
       "      <td>-0.001503</td>\n",
       "      <td>1.000000</td>\n",
       "      <td>0.002261</td>\n",
       "    </tr>\n",
       "    <tr>\n",
       "      <th>Class</th>\n",
       "      <td>0.864283</td>\n",
       "      <td>-0.505761</td>\n",
       "      <td>0.491878</td>\n",
       "      <td>-0.682095</td>\n",
       "      <td>0.735981</td>\n",
       "      <td>-0.338639</td>\n",
       "      <td>-0.435088</td>\n",
       "      <td>-0.491234</td>\n",
       "      <td>0.144294</td>\n",
       "      <td>-0.585522</td>\n",
       "      <td>...</td>\n",
       "      <td>0.109640</td>\n",
       "      <td>0.014098</td>\n",
       "      <td>0.010255</td>\n",
       "      <td>-0.130107</td>\n",
       "      <td>0.061847</td>\n",
       "      <td>0.071052</td>\n",
       "      <td>0.214002</td>\n",
       "      <td>0.102024</td>\n",
       "      <td>0.002261</td>\n",
       "      <td>1.000000</td>\n",
       "    </tr>\n",
       "  </tbody>\n",
       "</table>\n",
       "<p>31 rows × 31 columns</p>\n",
       "</div>"
      ],
      "text/plain": [
       "              id        V1        V2        V3        V4        V5        V6  \\\n",
       "id      1.000000 -0.395741  0.424267 -0.663655  0.617554 -0.268445 -0.387916   \n",
       "V1     -0.395741  1.000000 -0.561184  0.484499 -0.498963  0.517462  0.354728   \n",
       "V2      0.424267 -0.561184  1.000000 -0.627810  0.579638 -0.631669 -0.341040   \n",
       "V3     -0.663655  0.484499 -0.627810  1.000000 -0.687726  0.510351  0.508974   \n",
       "V4      0.617554 -0.498963  0.579638 -0.687726  1.000000 -0.429243 -0.474403   \n",
       "V5     -0.268445  0.517462 -0.631669  0.510351 -0.429243  1.000000  0.245187   \n",
       "V6     -0.387916  0.354728 -0.341040  0.508974 -0.474403  0.245187  1.000000   \n",
       "V7     -0.414288  0.573381 -0.694022  0.634336 -0.588648  0.586828  0.418703   \n",
       "V8      0.121282 -0.226757  0.191321 -0.263018  0.199013 -0.314975 -0.604491   \n",
       "V9     -0.508427  0.548973 -0.585095  0.648615 -0.676648  0.479614  0.432241   \n",
       "V10    -0.578014  0.599108 -0.621798  0.707676 -0.712839  0.563874  0.471000   \n",
       "V11     0.589321 -0.525797  0.558863 -0.688436  0.708642 -0.440100 -0.497611   \n",
       "V12    -0.652940  0.580715 -0.574935  0.705497 -0.722597  0.473002  0.498993   \n",
       "V13    -0.076331 -0.020567  0.012801 -0.019272  0.011519 -0.115317 -0.117637   \n",
       "V14    -0.709346  0.494427 -0.523294  0.673179 -0.714847  0.387454  0.510123   \n",
       "V15    -0.080004  0.046002 -0.161325  0.098516 -0.098627  0.058686 -0.023851   \n",
       "V16    -0.494255  0.621884 -0.534392  0.614504 -0.593948  0.596898  0.415834   \n",
       "V17    -0.417226  0.605799 -0.495836  0.578223 -0.532786  0.669625  0.378152   \n",
       "V18    -0.341056  0.577296 -0.482162  0.525509 -0.482267  0.645095  0.328019   \n",
       "V19     0.216276 -0.377803  0.208821 -0.314396  0.269842 -0.438118 -0.235623   \n",
       "V20     0.145803 -0.219164  0.263707 -0.253805  0.257236 -0.246694 -0.188360   \n",
       "V21     0.097948 -0.034669 -0.013570 -0.021710 -0.013093  0.034147 -0.040153   \n",
       "V22     0.036106 -0.073729  0.035346 -0.041970  0.091197 -0.119152  0.036896   \n",
       "V23     0.017594 -0.068917  0.151906 -0.058884  0.043266 -0.113919  0.308598   \n",
       "V24    -0.116685 -0.014651 -0.027515  0.076460 -0.102508 -0.083243 -0.005237   \n",
       "V25     0.005586 -0.008508  0.132443 -0.076332  0.029402 -0.047845 -0.195340   \n",
       "V26     0.052126  0.009281  0.012219 -0.052056  0.136679  0.047771 -0.067605   \n",
       "V27     0.184195 -0.122772  0.053835 -0.190582  0.188036 -0.043759 -0.260783   \n",
       "V28     0.086822  0.070111  0.021071  0.005346 -0.011316  0.108422 -0.065641   \n",
       "Amount  0.001710 -0.001280 -0.000076 -0.002001  0.001859 -0.000016  0.000734   \n",
       "Class   0.864283 -0.505761  0.491878 -0.682095  0.735981 -0.338639 -0.435088   \n",
       "\n",
       "              V7        V8        V9  ...       V21       V22       V23  \\\n",
       "id     -0.414288  0.121282 -0.508427  ...  0.097948  0.036106  0.017594   \n",
       "V1      0.573381 -0.226757  0.548973  ... -0.034669 -0.073729 -0.068917   \n",
       "V2     -0.694022  0.191321 -0.585095  ... -0.013570  0.035346  0.151906   \n",
       "V3      0.634336 -0.263018  0.648615  ... -0.021710 -0.041970 -0.058884   \n",
       "V4     -0.588648  0.199013 -0.676648  ... -0.013093  0.091197  0.043266   \n",
       "V5      0.586828 -0.314975  0.479614  ...  0.034147 -0.119152 -0.113919   \n",
       "V6      0.418703 -0.604491  0.432241  ... -0.040153  0.036896  0.308598   \n",
       "V7      1.000000 -0.180986  0.601789  ...  0.019627 -0.104043 -0.111177   \n",
       "V8     -0.180986  1.000000 -0.208557  ...  0.056416 -0.098752 -0.463649   \n",
       "V9      0.601789 -0.208557  1.000000  ...  0.131001 -0.204723 -0.042371   \n",
       "V10     0.678004 -0.199995  0.748487  ...  0.037426 -0.150957 -0.056285   \n",
       "V11    -0.587660  0.223052 -0.633556  ...  0.111608  0.022153  0.013596   \n",
       "V12     0.603318 -0.211999  0.667266  ... -0.080394 -0.072096 -0.019261   \n",
       "V13    -0.030000  0.273958 -0.006167  ...  0.025529  0.002039 -0.123520   \n",
       "V14     0.535612 -0.216410  0.633212  ... -0.189902  0.052023 -0.007601   \n",
       "V15     0.135939  0.101690  0.114613  ...  0.171719 -0.099347 -0.074832   \n",
       "V16     0.667244 -0.230638  0.573957  ... -0.117591 -0.101847 -0.057100   \n",
       "V17     0.655755 -0.277246  0.581604  ... -0.079348 -0.144637 -0.044635   \n",
       "V18     0.625680 -0.249986  0.522720  ... -0.060862 -0.135994 -0.046262   \n",
       "V19    -0.372270  0.253272 -0.294432  ...  0.136080  0.110066 -0.001529   \n",
       "V20    -0.299436  0.131354 -0.328975  ... -0.529918  0.429362  0.017204   \n",
       "V21     0.019627  0.056416  0.131001  ...  1.000000 -0.734653  0.096587   \n",
       "V22    -0.104043 -0.098752 -0.204723  ... -0.734653  1.000000 -0.000636   \n",
       "V23    -0.111177 -0.463649 -0.042371  ...  0.096587 -0.000636  1.000000   \n",
       "V24    -0.004152  0.083272  0.044006  ... -0.059190  0.079790 -0.051181   \n",
       "V25     0.000802  0.322639 -0.034885  ...  0.146164 -0.258956 -0.040882   \n",
       "V26    -0.006488  0.040448 -0.131000  ...  0.070050 -0.015127  0.001057   \n",
       "V27    -0.036557  0.298398 -0.111842  ...  0.373256 -0.340640 -0.151698   \n",
       "V28     0.040732  0.046017  0.069959  ...  0.326677 -0.282893  0.028059   \n",
       "Amount  0.001326 -0.000208 -0.001589  ...  0.001029 -0.000942 -0.001981   \n",
       "Class  -0.491234  0.144294 -0.585522  ...  0.109640  0.014098  0.010255   \n",
       "\n",
       "             V24       V25       V26       V27       V28    Amount     Class  \n",
       "id     -0.116685  0.005586  0.052126  0.184195  0.086822  0.001710  0.864283  \n",
       "V1     -0.014651 -0.008508  0.009281 -0.122772  0.070111 -0.001280 -0.505761  \n",
       "V2     -0.027515  0.132443  0.012219  0.053835  0.021071 -0.000076  0.491878  \n",
       "V3      0.076460 -0.076332 -0.052056 -0.190582  0.005346 -0.002001 -0.682095  \n",
       "V4     -0.102508  0.029402  0.136679  0.188036 -0.011316  0.001859  0.735981  \n",
       "V5     -0.083243 -0.047845  0.047771 -0.043759  0.108422 -0.000016 -0.338639  \n",
       "V6     -0.005237 -0.195340 -0.067605 -0.260783 -0.065641  0.000734 -0.435088  \n",
       "V7     -0.004152  0.000802 -0.006488 -0.036557  0.040732  0.001326 -0.491234  \n",
       "V8      0.083272  0.322639  0.040448  0.298398  0.046017 -0.000208  0.144294  \n",
       "V9      0.044006 -0.034885 -0.131000 -0.111842  0.069959 -0.001589 -0.585522  \n",
       "V10     0.045935 -0.014045 -0.053684 -0.134907  0.035646 -0.001259 -0.673665  \n",
       "V11    -0.104340  0.051535  0.133635  0.290912  0.059732  0.000292  0.724278  \n",
       "V12     0.080407 -0.010350 -0.114272 -0.216563 -0.053136 -0.001245 -0.768579  \n",
       "V13     0.060097  0.003580  0.043750  0.058483 -0.101488 -0.002718 -0.071105  \n",
       "V14     0.138718 -0.087040 -0.142472 -0.299951 -0.127969 -0.001363 -0.805669  \n",
       "V15     0.023003 -0.027579  0.047833  0.116106  0.100293  0.001190 -0.037948  \n",
       "V16    -0.023511  0.062484 -0.056184 -0.191742 -0.022328 -0.000479 -0.573511  \n",
       "V17    -0.072198  0.075609 -0.045189 -0.184550  0.019570 -0.000358 -0.476377  \n",
       "V18    -0.099745  0.070467 -0.021039 -0.141790  0.052547 -0.001516 -0.410091  \n",
       "V19     0.110751 -0.174328  0.041421  0.123266 -0.024368 -0.000400  0.244081  \n",
       "V20    -0.020316  0.030478  0.007677 -0.055183 -0.035727 -0.001405  0.179851  \n",
       "V21    -0.059190  0.146164  0.070050  0.373256  0.326677  0.001029  0.109640  \n",
       "V22     0.079790 -0.258956 -0.015127 -0.340640 -0.282893 -0.000942  0.014098  \n",
       "V23    -0.051181 -0.040882  0.001057 -0.151698  0.028059 -0.001981  0.010255  \n",
       "V24     1.000000 -0.079604 -0.113362 -0.194899 -0.045189 -0.000846 -0.130107  \n",
       "V25    -0.079604  1.000000  0.057546  0.215653  0.176058 -0.000720  0.061847  \n",
       "V26    -0.113362  0.057546  1.000000  0.193977  0.036830 -0.000120  0.071052  \n",
       "V27    -0.194899  0.215653  0.193977  1.000000  0.183233  0.001235  0.214002  \n",
       "V28    -0.045189  0.176058  0.036830  0.183233  1.000000 -0.001503  0.102024  \n",
       "Amount -0.000846 -0.000720 -0.000120  0.001235 -0.001503  1.000000  0.002261  \n",
       "Class  -0.130107  0.061847  0.071052  0.214002  0.102024  0.002261  1.000000  \n",
       "\n",
       "[31 rows x 31 columns]"
      ]
     },
     "execution_count": 5,
     "metadata": {},
     "output_type": "execute_result"
    }
   ],
   "source": [
    "# for those who prefer numbers\n",
    "df.corr()"
   ]
  },
  {
   "cell_type": "code",
   "execution_count": 18,
   "id": "579b06f0",
   "metadata": {},
   "outputs": [
    {
     "data": {
      "image/png": "[encoded data removed]",
      "text/plain": [
       "<Figure size 1400x1400 with 2 Axes>"
      ]
     },
     "metadata": {},
     "output_type": "display_data"
    }
   ],
   "source": [
    "# for those who prefer visualization plotting a correlation heatmap\n",
    "plt.figure(figsize = (14,14))\n",
    "plt.title('Credit Card Transactions correlation plot')\n",
    "corr = df.corr()\n",
    "sns.heatmap(corr,xticklabels=corr.columns,yticklabels=corr.columns,linewidths=.1,cmap=\"coolwarm\")\n",
    "plt.show()"
   ]
  },
  {
   "cell_type": "markdown",
   "id": "56997648",
   "metadata": {},
   "source": [
    "No higly correleted variables found. In the above plot dark red sqaures signify high correlation."
   ]
  },
  {
   "cell_type": "markdown",
   "id": "c91e7246",
   "metadata": {},
   "source": [
    "## X-Y Split"
   ]
  },
  {
   "cell_type": "code",
   "execution_count": 19,
   "id": "e6f6a8b5",
   "metadata": {},
   "outputs": [
    {
     "data": {
      "text/html": [
       "<div>\n",
       "<style scoped>\n",
       "    .dataframe tbody tr th:only-of-type {\n",
       "        vertical-align: middle;\n",
       "    }\n",
       "\n",
       "    .dataframe tbody tr th {\n",
       "        vertical-align: top;\n",
       "    }\n",
       "\n",
       "    .dataframe thead th {\n",
       "        text-align: right;\n",
       "    }\n",
       "</style>\n",
       "<table border=\"1\" class=\"dataframe\">\n",
       "  <thead>\n",
       "    <tr style=\"text-align: right;\">\n",
       "      <th></th>\n",
       "      <th>id</th>\n",
       "      <th>V1</th>\n",
       "      <th>V2</th>\n",
       "      <th>V3</th>\n",
       "      <th>V4</th>\n",
       "      <th>V5</th>\n",
       "      <th>V6</th>\n",
       "      <th>V7</th>\n",
       "      <th>V8</th>\n",
       "      <th>V9</th>\n",
       "      <th>...</th>\n",
       "      <th>V20</th>\n",
       "      <th>V21</th>\n",
       "      <th>V22</th>\n",
       "      <th>V23</th>\n",
       "      <th>V24</th>\n",
       "      <th>V25</th>\n",
       "      <th>V26</th>\n",
       "      <th>V27</th>\n",
       "      <th>V28</th>\n",
       "      <th>Amount</th>\n",
       "    </tr>\n",
       "  </thead>\n",
       "  <tbody>\n",
       "    <tr>\n",
       "      <th>0</th>\n",
       "      <td>0</td>\n",
       "      <td>-0.260648</td>\n",
       "      <td>-0.469648</td>\n",
       "      <td>2.496266</td>\n",
       "      <td>-0.083724</td>\n",
       "      <td>0.129681</td>\n",
       "      <td>0.732898</td>\n",
       "      <td>0.519014</td>\n",
       "      <td>-0.130006</td>\n",
       "      <td>0.727159</td>\n",
       "      <td>...</td>\n",
       "      <td>0.091202</td>\n",
       "      <td>-0.110552</td>\n",
       "      <td>0.217606</td>\n",
       "      <td>-0.134794</td>\n",
       "      <td>0.165959</td>\n",
       "      <td>0.126280</td>\n",
       "      <td>-0.434824</td>\n",
       "      <td>-0.081230</td>\n",
       "      <td>-0.151045</td>\n",
       "      <td>17982.10</td>\n",
       "    </tr>\n",
       "    <tr>\n",
       "      <th>1</th>\n",
       "      <td>1</td>\n",
       "      <td>0.985100</td>\n",
       "      <td>-0.356045</td>\n",
       "      <td>0.558056</td>\n",
       "      <td>-0.429654</td>\n",
       "      <td>0.277140</td>\n",
       "      <td>0.428605</td>\n",
       "      <td>0.406466</td>\n",
       "      <td>-0.133118</td>\n",
       "      <td>0.347452</td>\n",
       "      <td>...</td>\n",
       "      <td>-0.233984</td>\n",
       "      <td>-0.194936</td>\n",
       "      <td>-0.605761</td>\n",
       "      <td>0.079469</td>\n",
       "      <td>-0.577395</td>\n",
       "      <td>0.190090</td>\n",
       "      <td>0.296503</td>\n",
       "      <td>-0.248052</td>\n",
       "      <td>-0.064512</td>\n",
       "      <td>6531.37</td>\n",
       "    </tr>\n",
       "    <tr>\n",
       "      <th>2</th>\n",
       "      <td>2</td>\n",
       "      <td>-0.260272</td>\n",
       "      <td>-0.949385</td>\n",
       "      <td>1.728538</td>\n",
       "      <td>-0.457986</td>\n",
       "      <td>0.074062</td>\n",
       "      <td>1.419481</td>\n",
       "      <td>0.743511</td>\n",
       "      <td>-0.095576</td>\n",
       "      <td>-0.261297</td>\n",
       "      <td>...</td>\n",
       "      <td>0.361652</td>\n",
       "      <td>-0.005020</td>\n",
       "      <td>0.702906</td>\n",
       "      <td>0.945045</td>\n",
       "      <td>-1.154666</td>\n",
       "      <td>-0.605564</td>\n",
       "      <td>-0.312895</td>\n",
       "      <td>-0.300258</td>\n",
       "      <td>-0.244718</td>\n",
       "      <td>2513.54</td>\n",
       "    </tr>\n",
       "    <tr>\n",
       "      <th>3</th>\n",
       "      <td>3</td>\n",
       "      <td>-0.152152</td>\n",
       "      <td>-0.508959</td>\n",
       "      <td>1.746840</td>\n",
       "      <td>-1.090178</td>\n",
       "      <td>0.249486</td>\n",
       "      <td>1.143312</td>\n",
       "      <td>0.518269</td>\n",
       "      <td>-0.065130</td>\n",
       "      <td>-0.205698</td>\n",
       "      <td>...</td>\n",
       "      <td>-0.378223</td>\n",
       "      <td>-0.146927</td>\n",
       "      <td>-0.038212</td>\n",
       "      <td>-0.214048</td>\n",
       "      <td>-1.893131</td>\n",
       "      <td>1.003963</td>\n",
       "      <td>-0.515950</td>\n",
       "      <td>-0.165316</td>\n",
       "      <td>0.048424</td>\n",
       "      <td>5384.44</td>\n",
       "    </tr>\n",
       "    <tr>\n",
       "      <th>4</th>\n",
       "      <td>4</td>\n",
       "      <td>-0.206820</td>\n",
       "      <td>-0.165280</td>\n",
       "      <td>1.527053</td>\n",
       "      <td>-0.448293</td>\n",
       "      <td>0.106125</td>\n",
       "      <td>0.530549</td>\n",
       "      <td>0.658849</td>\n",
       "      <td>-0.212660</td>\n",
       "      <td>1.049921</td>\n",
       "      <td>...</td>\n",
       "      <td>0.247237</td>\n",
       "      <td>-0.106984</td>\n",
       "      <td>0.729727</td>\n",
       "      <td>-0.161666</td>\n",
       "      <td>0.312561</td>\n",
       "      <td>-0.414116</td>\n",
       "      <td>1.071126</td>\n",
       "      <td>0.023712</td>\n",
       "      <td>0.419117</td>\n",
       "      <td>14278.97</td>\n",
       "    </tr>\n",
       "  </tbody>\n",
       "</table>\n",
       "<p>5 rows × 30 columns</p>\n",
       "</div>"
      ],
      "text/plain": [
       "   id        V1        V2        V3        V4        V5        V6        V7  \\\n",
       "0   0 -0.260648 -0.469648  2.496266 -0.083724  0.129681  0.732898  0.519014   \n",
       "1   1  0.985100 -0.356045  0.558056 -0.429654  0.277140  0.428605  0.406466   \n",
       "2   2 -0.260272 -0.949385  1.728538 -0.457986  0.074062  1.419481  0.743511   \n",
       "3   3 -0.152152 -0.508959  1.746840 -1.090178  0.249486  1.143312  0.518269   \n",
       "4   4 -0.206820 -0.165280  1.527053 -0.448293  0.106125  0.530549  0.658849   \n",
       "\n",
       "         V8        V9  ...       V20       V21       V22       V23       V24  \\\n",
       "0 -0.130006  0.727159  ...  0.091202 -0.110552  0.217606 -0.134794  0.165959   \n",
       "1 -0.133118  0.347452  ... -0.233984 -0.194936 -0.605761  0.079469 -0.577395   \n",
       "2 -0.095576 -0.261297  ...  0.361652 -0.005020  0.702906  0.945045 -1.154666   \n",
       "3 -0.065130 -0.205698  ... -0.378223 -0.146927 -0.038212 -0.214048 -1.893131   \n",
       "4 -0.212660  1.049921  ...  0.247237 -0.106984  0.729727 -0.161666  0.312561   \n",
       "\n",
       "        V25       V26       V27       V28    Amount  \n",
       "0  0.126280 -0.434824 -0.081230 -0.151045  17982.10  \n",
       "1  0.190090  0.296503 -0.248052 -0.064512   6531.37  \n",
       "2 -0.605564 -0.312895 -0.300258 -0.244718   2513.54  \n",
       "3  1.003963 -0.515950 -0.165316  0.048424   5384.44  \n",
       "4 -0.414116  1.071126  0.023712  0.419117  14278.97  \n",
       "\n",
       "[5 rows x 30 columns]"
      ]
     },
     "execution_count": 19,
     "metadata": {},
     "output_type": "execute_result"
    }
   ],
   "source": [
    "# Creating X independent and Y dependent variables for regression model\n",
    "X = df.loc[:,df.columns != 'Class'] # creating a variable X without class variable (Independent Variables)\n",
    "X.head()"
   ]
  },
  {
   "cell_type": "code",
   "execution_count": 21,
   "id": "3dddef94",
   "metadata": {},
   "outputs": [
    {
     "data": {
      "text/plain": [
       "0    0\n",
       "1    0\n",
       "2    0\n",
       "3    0\n",
       "4    0\n",
       "Name: Class, dtype: int64"
      ]
     },
     "execution_count": 21,
     "metadata": {},
     "output_type": "execute_result"
    }
   ],
   "source": [
    "# creating dependent variable Y with only class variable\n",
    "Y = df['Class'] # Dependent Variable\n",
    "Y.head()"
   ]
  },
  {
   "cell_type": "markdown",
   "id": "aa3e0a07",
   "metadata": {},
   "source": [
    "## Now we will apply different classification techniques to train and test the data "
   ]
  },
  {
   "cell_type": "markdown",
   "id": "c871b679",
   "metadata": {},
   "source": [
    "## Logistic Regression"
   ]
  },
  {
   "cell_type": "markdown",
   "id": "2bc07a3c",
   "metadata": {},
   "source": [
    "### Training Data"
   ]
  },
  {
   "cell_type": "code",
   "execution_count": 22,
   "id": "8fe4edca",
   "metadata": {},
   "outputs": [
    {
     "data": {
      "text/html": [
       "<style>#sk-container-id-1 {color: black;}#sk-container-id-1 pre{padding: 0;}#sk-container-id-1 div.sk-toggleable {background-color: white;}#sk-container-id-1 label.sk-toggleable__label {cursor: pointer;display: block;width: 100%;margin-bottom: 0;padding: 0.3em;box-sizing: border-box;text-align: center;}#sk-container-id-1 label.sk-toggleable__label-arrow:before {content: \"▸\";float: left;margin-right: 0.25em;color: #696969;}#sk-container-id-1 label.sk-toggleable__label-arrow:hover:before {color: black;}#sk-container-id-1 div.sk-estimator:hover label.sk-toggleable__label-arrow:before {color: black;}#sk-container-id-1 div.sk-toggleable__content {max-height: 0;max-width: 0;overflow: hidden;text-align: left;background-color: #f0f8ff;}#sk-container-id-1 div.sk-toggleable__content pre {margin: 0.2em;color: black;border-radius: 0.25em;background-color: #f0f8ff;}#sk-container-id-1 input.sk-toggleable__control:checked~div.sk-toggleable__content {max-height: 200px;max-width: 100%;overflow: auto;}#sk-container-id-1 input.sk-toggleable__control:checked~label.sk-toggleable__label-arrow:before {content: \"▾\";}#sk-container-id-1 div.sk-estimator input.sk-toggleable__control:checked~label.sk-toggleable__label {background-color: #d4ebff;}#sk-container-id-1 div.sk-label input.sk-toggleable__control:checked~label.sk-toggleable__label {background-color: #d4ebff;}#sk-container-id-1 input.sk-hidden--visually {border: 0;clip: rect(1px 1px 1px 1px);clip: rect(1px, 1px, 1px, 1px);height: 1px;margin: -1px;overflow: hidden;padding: 0;position: absolute;width: 1px;}#sk-container-id-1 div.sk-estimator {font-family: monospace;background-color: #f0f8ff;border: 1px dotted black;border-radius: 0.25em;box-sizing: border-box;margin-bottom: 0.5em;}#sk-container-id-1 div.sk-estimator:hover {background-color: #d4ebff;}#sk-container-id-1 div.sk-parallel-item::after {content: \"\";width: 100%;border-bottom: 1px solid gray;flex-grow: 1;}#sk-container-id-1 div.sk-label:hover label.sk-toggleable__label {background-color: #d4ebff;}#sk-container-id-1 div.sk-serial::before {content: \"\";position: absolute;border-left: 1px solid gray;box-sizing: border-box;top: 0;bottom: 0;left: 50%;z-index: 0;}#sk-container-id-1 div.sk-serial {display: flex;flex-direction: column;align-items: center;background-color: white;padding-right: 0.2em;padding-left: 0.2em;position: relative;}#sk-container-id-1 div.sk-item {position: relative;z-index: 1;}#sk-container-id-1 div.sk-parallel {display: flex;align-items: stretch;justify-content: center;background-color: white;position: relative;}#sk-container-id-1 div.sk-item::before, #sk-container-id-1 div.sk-parallel-item::before {content: \"\";position: absolute;border-left: 1px solid gray;box-sizing: border-box;top: 0;bottom: 0;left: 50%;z-index: -1;}#sk-container-id-1 div.sk-parallel-item {display: flex;flex-direction: column;z-index: 1;position: relative;background-color: white;}#sk-container-id-1 div.sk-parallel-item:first-child::after {align-self: flex-end;width: 50%;}#sk-container-id-1 div.sk-parallel-item:last-child::after {align-self: flex-start;width: 50%;}#sk-container-id-1 div.sk-parallel-item:only-child::after {width: 0;}#sk-container-id-1 div.sk-dashed-wrapped {border: 1px dashed gray;margin: 0 0.4em 0.5em 0.4em;box-sizing: border-box;padding-bottom: 0.4em;background-color: white;}#sk-container-id-1 div.sk-label label {font-family: monospace;font-weight: bold;display: inline-block;line-height: 1.2em;}#sk-container-id-1 div.sk-label-container {text-align: center;}#sk-container-id-1 div.sk-container {/* jupyter's `normalize.less` sets `[hidden] { display: none; }` but bootstrap.min.css set `[hidden] { display: none !important; }` so we also need the `!important` here to be able to override the default hidden behavior on the sphinx rendered scikit-learn.org. See: https://github.com/scikit-learn/scikit-learn/issues/21755 */display: inline-block !important;position: relative;}#sk-container-id-1 div.sk-text-repr-fallback {display: none;}</style><div id=\"sk-container-id-1\" class=\"sk-top-container\"><div class=\"sk-text-repr-fallback\"><pre>LogisticRegression()</pre><b>In a Jupyter environment, please rerun this cell to show the HTML representation or trust the notebook. <br />On GitHub, the HTML representation is unable to render, please try loading this page with nbviewer.org.</b></div><div class=\"sk-container\" hidden><div class=\"sk-item\"><div class=\"sk-estimator sk-toggleable\"><input class=\"sk-toggleable__control sk-hidden--visually\" id=\"sk-estimator-id-1\" type=\"checkbox\" checked><label for=\"sk-estimator-id-1\" class=\"sk-toggleable__label sk-toggleable__label-arrow\">LogisticRegression</label><div class=\"sk-toggleable__content\"><pre>LogisticRegression()</pre></div></div></div></div></div>"
      ],
      "text/plain": [
       "LogisticRegression()"
      ]
     },
     "execution_count": 22,
     "metadata": {},
     "output_type": "execute_result"
    }
   ],
   "source": [
    "# Importing the model in use\n",
    "from sklearn.linear_model import LogisticRegression\n",
    "# Training the model\n",
    "clf_lrs=LogisticRegression()\n",
    "clf_lrs.fit(X,Y)"
   ]
  },
  {
   "cell_type": "code",
   "execution_count": 23,
   "id": "246c2d06",
   "metadata": {},
   "outputs": [
    {
     "data": {
      "text/plain": [
       "array([[ 1.03348713e-05, -1.79239707e-08,  1.70026038e-08,\n",
       "        -2.27624127e-08,  2.56290143e-08, -1.19617560e-08,\n",
       "        -1.49000307e-08, -1.70803741e-08,  5.01907160e-09,\n",
       "        -2.02038728e-08, -2.33206245e-08,  2.54195639e-08,\n",
       "        -2.66766174e-08, -2.29989428e-09, -2.76937690e-08,\n",
       "        -7.97846234e-10, -1.98288896e-08, -1.63977518e-08,\n",
       "        -1.43134822e-08,  8.37529206e-09,  6.31761104e-09,\n",
       "         3.75493053e-09,  2.26130257e-10,  2.59057515e-10,\n",
       "        -4.45086543e-09,  2.65331582e-09,  2.55644864e-09,\n",
       "         7.40171850e-09,  3.53918552e-09, -1.82597450e-04]])"
      ]
     },
     "execution_count": 23,
     "metadata": {},
     "output_type": "execute_result"
    }
   ],
   "source": [
    "# Checking the cofficient\n",
    "clf_lrs.coef_"
   ]
  },
  {
   "cell_type": "code",
   "execution_count": 24,
   "id": "12b02bf4",
   "metadata": {},
   "outputs": [
    {
     "data": {
      "text/plain": [
       "array([-1.58368695e-08])"
      ]
     },
     "execution_count": 24,
     "metadata": {},
     "output_type": "execute_result"
    }
   ],
   "source": [
    "# Checking the intercept\n",
    "clf_lrs.intercept_"
   ]
  },
  {
   "cell_type": "markdown",
   "id": "2803d6b4",
   "metadata": {},
   "source": [
    "## Model Performance"
   ]
  },
  {
   "cell_type": "code",
   "execution_count": 25,
   "id": "4e7dfb59",
   "metadata": {},
   "outputs": [
    {
     "data": {
      "text/plain": [
       "array([0, 0, 0, ..., 1, 1, 1], dtype=int64)"
      ]
     },
     "execution_count": 25,
     "metadata": {},
     "output_type": "execute_result"
    }
   ],
   "source": [
    "# predicting \n",
    "clf_lrs.predict_proba(X)\n",
    "y_pred=clf_lrs.predict(X)\n",
    "y_pred"
   ]
  },
  {
   "cell_type": "code",
   "execution_count": 26,
   "id": "45812519",
   "metadata": {},
   "outputs": [
    {
     "data": {
      "text/plain": [
       "array([[189119,  95196],\n",
       "       [ 23494, 260821]], dtype=int64)"
      ]
     },
     "execution_count": 26,
     "metadata": {},
     "output_type": "execute_result"
    }
   ],
   "source": [
    "# confusion matrix\n",
    "confusion_matrix(Y,y_pred)"
   ]
  },
  {
   "cell_type": "code",
   "execution_count": 27,
   "id": "382fa6fe",
   "metadata": {},
   "outputs": [
    {
     "data": {
      "text/plain": [
       "0.7912702460299316"
      ]
     },
     "execution_count": 27,
     "metadata": {},
     "output_type": "execute_result"
    }
   ],
   "source": [
    "# Checking accuracy\n",
    "accuracy_lr = accuracy_score(Y,y_pred)\n",
    "accuracy_lr"
   ]
  },
  {
   "cell_type": "code",
   "execution_count": 28,
   "id": "e5f2483d",
   "metadata": {},
   "outputs": [
    {
     "data": {
      "text/plain": [
       "0.7326082743239789"
      ]
     },
     "execution_count": 28,
     "metadata": {},
     "output_type": "execute_result"
    }
   ],
   "source": [
    "# Checking precision score\n",
    "precision_score(Y,y_pred)"
   ]
  },
  {
   "cell_type": "code",
   "execution_count": 29,
   "id": "0c2cc07c",
   "metadata": {},
   "outputs": [
    {
     "data": {
      "text/plain": [
       "0.9173663014614073"
      ]
     },
     "execution_count": 29,
     "metadata": {},
     "output_type": "execute_result"
    }
   ],
   "source": [
    "# Checking recall score\n",
    "recall_score(Y,y_pred)"
   ]
  },
  {
   "cell_type": "markdown",
   "id": "6680c42b",
   "metadata": {},
   "source": [
    "This model has an test accuracy score of 79%, precision score of 73% and recall score of 91%. We need to apply other classification techniques to further increase the accuracy, precision and recall score."
   ]
  },
  {
   "cell_type": "markdown",
   "id": "5efa1f9c",
   "metadata": {},
   "source": [
    "## Linear Discriminant Analysis (LDA)"
   ]
  },
  {
   "cell_type": "markdown",
   "id": "ce7b257d",
   "metadata": {},
   "source": [
    "### Training the model"
   ]
  },
  {
   "cell_type": "code",
   "execution_count": 30,
   "id": "8797872a",
   "metadata": {},
   "outputs": [
    {
     "data": {
      "text/html": [
       "<style>#sk-container-id-2 {color: black;}#sk-container-id-2 pre{padding: 0;}#sk-container-id-2 div.sk-toggleable {background-color: white;}#sk-container-id-2 label.sk-toggleable__label {cursor: pointer;display: block;width: 100%;margin-bottom: 0;padding: 0.3em;box-sizing: border-box;text-align: center;}#sk-container-id-2 label.sk-toggleable__label-arrow:before {content: \"▸\";float: left;margin-right: 0.25em;color: #696969;}#sk-container-id-2 label.sk-toggleable__label-arrow:hover:before {color: black;}#sk-container-id-2 div.sk-estimator:hover label.sk-toggleable__label-arrow:before {color: black;}#sk-container-id-2 div.sk-toggleable__content {max-height: 0;max-width: 0;overflow: hidden;text-align: left;background-color: #f0f8ff;}#sk-container-id-2 div.sk-toggleable__content pre {margin: 0.2em;color: black;border-radius: 0.25em;background-color: #f0f8ff;}#sk-container-id-2 input.sk-toggleable__control:checked~div.sk-toggleable__content {max-height: 200px;max-width: 100%;overflow: auto;}#sk-container-id-2 input.sk-toggleable__control:checked~label.sk-toggleable__label-arrow:before {content: \"▾\";}#sk-container-id-2 div.sk-estimator input.sk-toggleable__control:checked~label.sk-toggleable__label {background-color: #d4ebff;}#sk-container-id-2 div.sk-label input.sk-toggleable__control:checked~label.sk-toggleable__label {background-color: #d4ebff;}#sk-container-id-2 input.sk-hidden--visually {border: 0;clip: rect(1px 1px 1px 1px);clip: rect(1px, 1px, 1px, 1px);height: 1px;margin: -1px;overflow: hidden;padding: 0;position: absolute;width: 1px;}#sk-container-id-2 div.sk-estimator {font-family: monospace;background-color: #f0f8ff;border: 1px dotted black;border-radius: 0.25em;box-sizing: border-box;margin-bottom: 0.5em;}#sk-container-id-2 div.sk-estimator:hover {background-color: #d4ebff;}#sk-container-id-2 div.sk-parallel-item::after {content: \"\";width: 100%;border-bottom: 1px solid gray;flex-grow: 1;}#sk-container-id-2 div.sk-label:hover label.sk-toggleable__label {background-color: #d4ebff;}#sk-container-id-2 div.sk-serial::before {content: \"\";position: absolute;border-left: 1px solid gray;box-sizing: border-box;top: 0;bottom: 0;left: 50%;z-index: 0;}#sk-container-id-2 div.sk-serial {display: flex;flex-direction: column;align-items: center;background-color: white;padding-right: 0.2em;padding-left: 0.2em;position: relative;}#sk-container-id-2 div.sk-item {position: relative;z-index: 1;}#sk-container-id-2 div.sk-parallel {display: flex;align-items: stretch;justify-content: center;background-color: white;position: relative;}#sk-container-id-2 div.sk-item::before, #sk-container-id-2 div.sk-parallel-item::before {content: \"\";position: absolute;border-left: 1px solid gray;box-sizing: border-box;top: 0;bottom: 0;left: 50%;z-index: -1;}#sk-container-id-2 div.sk-parallel-item {display: flex;flex-direction: column;z-index: 1;position: relative;background-color: white;}#sk-container-id-2 div.sk-parallel-item:first-child::after {align-self: flex-end;width: 50%;}#sk-container-id-2 div.sk-parallel-item:last-child::after {align-self: flex-start;width: 50%;}#sk-container-id-2 div.sk-parallel-item:only-child::after {width: 0;}#sk-container-id-2 div.sk-dashed-wrapped {border: 1px dashed gray;margin: 0 0.4em 0.5em 0.4em;box-sizing: border-box;padding-bottom: 0.4em;background-color: white;}#sk-container-id-2 div.sk-label label {font-family: monospace;font-weight: bold;display: inline-block;line-height: 1.2em;}#sk-container-id-2 div.sk-label-container {text-align: center;}#sk-container-id-2 div.sk-container {/* jupyter's `normalize.less` sets `[hidden] { display: none; }` but bootstrap.min.css set `[hidden] { display: none !important; }` so we also need the `!important` here to be able to override the default hidden behavior on the sphinx rendered scikit-learn.org. See: https://github.com/scikit-learn/scikit-learn/issues/21755 */display: inline-block !important;position: relative;}#sk-container-id-2 div.sk-text-repr-fallback {display: none;}</style><div id=\"sk-container-id-2\" class=\"sk-top-container\"><div class=\"sk-text-repr-fallback\"><pre>LinearDiscriminantAnalysis()</pre><b>In a Jupyter environment, please rerun this cell to show the HTML representation or trust the notebook. <br />On GitHub, the HTML representation is unable to render, please try loading this page with nbviewer.org.</b></div><div class=\"sk-container\" hidden><div class=\"sk-item\"><div class=\"sk-estimator sk-toggleable\"><input class=\"sk-toggleable__control sk-hidden--visually\" id=\"sk-estimator-id-2\" type=\"checkbox\" checked><label for=\"sk-estimator-id-2\" class=\"sk-toggleable__label sk-toggleable__label-arrow\">LinearDiscriminantAnalysis</label><div class=\"sk-toggleable__content\"><pre>LinearDiscriminantAnalysis()</pre></div></div></div></div></div>"
      ],
      "text/plain": [
       "LinearDiscriminantAnalysis()"
      ]
     },
     "execution_count": 30,
     "metadata": {},
     "output_type": "execute_result"
    }
   ],
   "source": [
    "# Importing model to use\n",
    "from sklearn.discriminant_analysis import LinearDiscriminantAnalysis\n",
    "# Training and fitting the model\n",
    "clf_lda=LinearDiscriminantAnalysis()\n",
    "clf_lda.fit(X,Y)"
   ]
  },
  {
   "cell_type": "markdown",
   "id": "d874d93a",
   "metadata": {},
   "source": [
    "### Predicting Values"
   ]
  },
  {
   "cell_type": "code",
   "execution_count": 31,
   "id": "4354c393",
   "metadata": {},
   "outputs": [
    {
     "data": {
      "text/plain": [
       "array([0, 0, 0, ..., 1, 1, 1], dtype=int64)"
      ]
     },
     "execution_count": 31,
     "metadata": {},
     "output_type": "execute_result"
    }
   ],
   "source": [
    "# predicting y variable\n",
    "y_pred_lda=clf_lda.predict(X)\n",
    "y_pred_lda"
   ]
  },
  {
   "cell_type": "markdown",
   "id": "32660e90",
   "metadata": {},
   "source": [
    "### Model Performance"
   ]
  },
  {
   "cell_type": "code",
   "execution_count": 32,
   "id": "06f5ede8",
   "metadata": {},
   "outputs": [
    {
     "data": {
      "text/plain": [
       "array([[283689,    626],\n",
       "       [  5643, 278672]], dtype=int64)"
      ]
     },
     "execution_count": 32,
     "metadata": {},
     "output_type": "execute_result"
    }
   ],
   "source": [
    "# confusion matrix\n",
    "confusion_matrix(Y,y_pred_lda)"
   ]
  },
  {
   "cell_type": "code",
   "execution_count": 33,
   "id": "7a178fda",
   "metadata": {},
   "outputs": [
    {
     "data": {
      "text/plain": [
       "0.9889752563178165"
      ]
     },
     "execution_count": 33,
     "metadata": {},
     "output_type": "execute_result"
    }
   ],
   "source": [
    "# accuracy score\n",
    "accuracy_lda = accuracy_score(Y,y_pred_lda)\n",
    "accuracy_lda"
   ]
  },
  {
   "cell_type": "code",
   "execution_count": 34,
   "id": "c2f87ffa",
   "metadata": {},
   "outputs": [
    {
     "data": {
      "text/plain": [
       "0.9977586663706866"
      ]
     },
     "execution_count": 34,
     "metadata": {},
     "output_type": "execute_result"
    }
   ],
   "source": [
    "# Checking precision score\n",
    "precision_score(Y,y_pred_lda)"
   ]
  },
  {
   "cell_type": "code",
   "execution_count": 35,
   "id": "d4c99ac3",
   "metadata": {},
   "outputs": [
    {
     "data": {
      "text/plain": [
       "0.9801522958690185"
      ]
     },
     "execution_count": 35,
     "metadata": {},
     "output_type": "execute_result"
    }
   ],
   "source": [
    "# Checking recall score\n",
    "recall_score(Y,y_pred_lda)"
   ]
  },
  {
   "cell_type": "markdown",
   "id": "01fd3bdc",
   "metadata": {},
   "source": [
    "This model has an test accuracy score of 98%, precision score of 99% and recall score of 98%. This is highly accurate model with high performance numbers."
   ]
  },
  {
   "cell_type": "markdown",
   "id": "392a08f4",
   "metadata": {},
   "source": [
    "## Test Train Split\n",
    "Splitting the data into 80:20 ratio to validate the model performance on an unseen data"
   ]
  },
  {
   "cell_type": "code",
   "execution_count": 36,
   "id": "e761bef7",
   "metadata": {},
   "outputs": [
    {
     "name": "stdout",
     "output_type": "stream",
     "text": [
      "(454904, 30) (113726, 30) (454904,) (113726,)\n"
     ]
    }
   ],
   "source": [
    "# Splitting the data in 80:20 ratio\n",
    "X_train,X_test,y_train,y_test=train_test_split(X,Y,test_size=0.2,random_state=0)\n",
    "# Analysing test and train data shape\n",
    "print(X_train.shape,X_test.shape,y_train.shape,y_test.shape)"
   ]
  },
  {
   "cell_type": "markdown",
   "id": "e9d78c41",
   "metadata": {},
   "source": [
    "## K Neighbours Classifier"
   ]
  },
  {
   "cell_type": "markdown",
   "id": "6879b3f5",
   "metadata": {},
   "source": [
    "### Standardising the X train and Y test data"
   ]
  },
  {
   "cell_type": "code",
   "execution_count": 37,
   "id": "296cdf77",
   "metadata": {},
   "outputs": [],
   "source": [
    "# Importing model to use\n",
    "from sklearn.neighbors import KNeighborsClassifier\n",
    "scaler=preprocessing.StandardScaler().fit(X_train) #standardising and fitting the training set using standardscaler function\n",
    "X_train_s=scaler.transform(X_train)\n",
    "scaler=preprocessing.StandardScaler().fit(X_test) #standardising and fitting the test set using standardscaler function\n",
    "X_test_s=scaler.transform(X_test)"
   ]
  },
  {
   "cell_type": "markdown",
   "id": "a6beb822",
   "metadata": {},
   "source": [
    "### Training the Model"
   ]
  },
  {
   "cell_type": "code",
   "execution_count": 40,
   "id": "67329c73",
   "metadata": {},
   "outputs": [
    {
     "data": {
      "text/html": [
       "<style>#sk-container-id-4 {color: black;}#sk-container-id-4 pre{padding: 0;}#sk-container-id-4 div.sk-toggleable {background-color: white;}#sk-container-id-4 label.sk-toggleable__label {cursor: pointer;display: block;width: 100%;margin-bottom: 0;padding: 0.3em;box-sizing: border-box;text-align: center;}#sk-container-id-4 label.sk-toggleable__label-arrow:before {content: \"▸\";float: left;margin-right: 0.25em;color: #696969;}#sk-container-id-4 label.sk-toggleable__label-arrow:hover:before {color: black;}#sk-container-id-4 div.sk-estimator:hover label.sk-toggleable__label-arrow:before {color: black;}#sk-container-id-4 div.sk-toggleable__content {max-height: 0;max-width: 0;overflow: hidden;text-align: left;background-color: #f0f8ff;}#sk-container-id-4 div.sk-toggleable__content pre {margin: 0.2em;color: black;border-radius: 0.25em;background-color: #f0f8ff;}#sk-container-id-4 input.sk-toggleable__control:checked~div.sk-toggleable__content {max-height: 200px;max-width: 100%;overflow: auto;}#sk-container-id-4 input.sk-toggleable__control:checked~label.sk-toggleable__label-arrow:before {content: \"▾\";}#sk-container-id-4 div.sk-estimator input.sk-toggleable__control:checked~label.sk-toggleable__label {background-color: #d4ebff;}#sk-container-id-4 div.sk-label input.sk-toggleable__control:checked~label.sk-toggleable__label {background-color: #d4ebff;}#sk-container-id-4 input.sk-hidden--visually {border: 0;clip: rect(1px 1px 1px 1px);clip: rect(1px, 1px, 1px, 1px);height: 1px;margin: -1px;overflow: hidden;padding: 0;position: absolute;width: 1px;}#sk-container-id-4 div.sk-estimator {font-family: monospace;background-color: #f0f8ff;border: 1px dotted black;border-radius: 0.25em;box-sizing: border-box;margin-bottom: 0.5em;}#sk-container-id-4 div.sk-estimator:hover {background-color: #d4ebff;}#sk-container-id-4 div.sk-parallel-item::after {content: \"\";width: 100%;border-bottom: 1px solid gray;flex-grow: 1;}#sk-container-id-4 div.sk-label:hover label.sk-toggleable__label {background-color: #d4ebff;}#sk-container-id-4 div.sk-serial::before {content: \"\";position: absolute;border-left: 1px solid gray;box-sizing: border-box;top: 0;bottom: 0;left: 50%;z-index: 0;}#sk-container-id-4 div.sk-serial {display: flex;flex-direction: column;align-items: center;background-color: white;padding-right: 0.2em;padding-left: 0.2em;position: relative;}#sk-container-id-4 div.sk-item {position: relative;z-index: 1;}#sk-container-id-4 div.sk-parallel {display: flex;align-items: stretch;justify-content: center;background-color: white;position: relative;}#sk-container-id-4 div.sk-item::before, #sk-container-id-4 div.sk-parallel-item::before {content: \"\";position: absolute;border-left: 1px solid gray;box-sizing: border-box;top: 0;bottom: 0;left: 50%;z-index: -1;}#sk-container-id-4 div.sk-parallel-item {display: flex;flex-direction: column;z-index: 1;position: relative;background-color: white;}#sk-container-id-4 div.sk-parallel-item:first-child::after {align-self: flex-end;width: 50%;}#sk-container-id-4 div.sk-parallel-item:last-child::after {align-self: flex-start;width: 50%;}#sk-container-id-4 div.sk-parallel-item:only-child::after {width: 0;}#sk-container-id-4 div.sk-dashed-wrapped {border: 1px dashed gray;margin: 0 0.4em 0.5em 0.4em;box-sizing: border-box;padding-bottom: 0.4em;background-color: white;}#sk-container-id-4 div.sk-label label {font-family: monospace;font-weight: bold;display: inline-block;line-height: 1.2em;}#sk-container-id-4 div.sk-label-container {text-align: center;}#sk-container-id-4 div.sk-container {/* jupyter's `normalize.less` sets `[hidden] { display: none; }` but bootstrap.min.css set `[hidden] { display: none !important; }` so we also need the `!important` here to be able to override the default hidden behavior on the sphinx rendered scikit-learn.org. See: https://github.com/scikit-learn/scikit-learn/issues/21755 */display: inline-block !important;position: relative;}#sk-container-id-4 div.sk-text-repr-fallback {display: none;}</style><div id=\"sk-container-id-4\" class=\"sk-top-container\"><div class=\"sk-text-repr-fallback\"><pre>KNeighborsClassifier(n_neighbors=3)</pre><b>In a Jupyter environment, please rerun this cell to show the HTML representation or trust the notebook. <br />On GitHub, the HTML representation is unable to render, please try loading this page with nbviewer.org.</b></div><div class=\"sk-container\" hidden><div class=\"sk-item\"><div class=\"sk-estimator sk-toggleable\"><input class=\"sk-toggleable__control sk-hidden--visually\" id=\"sk-estimator-id-4\" type=\"checkbox\" checked><label for=\"sk-estimator-id-4\" class=\"sk-toggleable__label sk-toggleable__label-arrow\">KNeighborsClassifier</label><div class=\"sk-toggleable__content\"><pre>KNeighborsClassifier(n_neighbors=3)</pre></div></div></div></div></div>"
      ],
      "text/plain": [
       "KNeighborsClassifier(n_neighbors=3)"
      ]
     },
     "execution_count": 40,
     "metadata": {},
     "output_type": "execute_result"
    }
   ],
   "source": [
    "# Training and fitting the model\n",
    "clf_knn3=KNeighborsClassifier(n_neighbors=3) # Training the model with K=3\n",
    "clf_knn3.fit(X_train_s,y_train)"
   ]
  },
  {
   "cell_type": "markdown",
   "id": "0051e6ef",
   "metadata": {},
   "source": [
    "### Model Performance"
   ]
  },
  {
   "cell_type": "code",
   "execution_count": 41,
   "id": "b67dd6de",
   "metadata": {},
   "outputs": [
    {
     "data": {
      "text/plain": [
       "array([[56675,    49],\n",
       "       [    3, 56999]], dtype=int64)"
      ]
     },
     "execution_count": 41,
     "metadata": {},
     "output_type": "execute_result"
    }
   ],
   "source": [
    "# predicting and creating confusion matrics for model K=3\n",
    "confusion_matrix(y_test,clf_knn3.predict(X_test_s))"
   ]
  },
  {
   "cell_type": "code",
   "execution_count": 42,
   "id": "f5f3e97c",
   "metadata": {},
   "outputs": [
    {
     "data": {
      "text/plain": [
       "0.9995427606703832"
      ]
     },
     "execution_count": 42,
     "metadata": {},
     "output_type": "execute_result"
    }
   ],
   "source": [
    "# checking for accuracy\n",
    "accuracy_knb2=accuracy_score(y_test,clf_knn3.predict(X_test_s))\n",
    "accuracy_knb2"
   ]
  },
  {
   "cell_type": "code",
   "execution_count": 43,
   "id": "a1b6f238",
   "metadata": {},
   "outputs": [
    {
     "data": {
      "text/plain": [
       "0.999141074183144"
      ]
     },
     "execution_count": 43,
     "metadata": {},
     "output_type": "execute_result"
    }
   ],
   "source": [
    "# Checking precision score\n",
    "precision_score(y_test,clf_knn3.predict(X_test_s))"
   ]
  },
  {
   "cell_type": "code",
   "execution_count": 44,
   "id": "6e5c13d0",
   "metadata": {},
   "outputs": [
    {
     "data": {
      "text/plain": [
       "0.9999473702677099"
      ]
     },
     "execution_count": 44,
     "metadata": {},
     "output_type": "execute_result"
    }
   ],
   "source": [
    "# Checking recall score\n",
    "recall_score(y_test,clf_knn3.predict(X_test_s))"
   ]
  },
  {
   "cell_type": "markdown",
   "id": "6a936f9b",
   "metadata": {},
   "source": [
    "This model has an test accuracy score of 99%, precision score of 99% and recall score of 99%. This is highly accurate model with high performance numbers. "
   ]
  },
  {
   "cell_type": "markdown",
   "id": "36100b9c",
   "metadata": {},
   "source": [
    "# Conclusion\n",
    "The K-Nearest Neighbours (KNN) technique gives the best performing model amongs the three used in this project.This model has an test accuracy score of 99%, precision score of 99% and recall score of 99%."
   ]
  },
  {
   "cell_type": "code",
   "execution_count": null,
   "id": "69506ae5",
   "metadata": {},
   "outputs": [],
   "source": []
  }
 ],
 "metadata": {
  "kernelspec": {
   "display_name": "Python 3 (ipykernel)",
   "language": "python",
   "name": "python3"
  },
  "language_info": {
   "codemirror_mode": {
    "name": "ipython",
    "version": 3
   },
   "file_extension": ".py",
   "mimetype": "text/x-python",
   "name": "python",
   "nbconvert_exporter": "python",
   "pygments_lexer": "ipython3",
   "version": "3.11.4"
  }
 },
 "nbformat": 4,
 "nbformat_minor": 5
}
